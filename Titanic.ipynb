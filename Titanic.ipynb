{
  "nbformat": 4,
  "nbformat_minor": 0,
  "metadata": {
    "colab": {
      "provenance": [],
      "collapsed_sections": []
    },
    "kernelspec": {
      "name": "python3",
      "display_name": "Python 3"
    },
    "language_info": {
      "name": "python"
    },
    "gpuClass": "standard"
  },
  "cells": [
    {
      "cell_type": "code",
      "execution_count": null,
      "metadata": {
        "id": "loZqICYhvZUM"
      },
      "outputs": [],
      "source": [
        "import pandas as pd\n",
        "import numpy as np\n",
        "from datetime import datetime"
      ]
    },
    {
      "cell_type": "code",
      "source": [
        "from google.colab import drive\n",
        "drive.mount('/content/drive')"
      ],
      "metadata": {
        "colab": {
          "base_uri": "https://localhost:8080/"
        },
        "id": "KOyBfCbLv93C",
        "outputId": "d3a9ddd0-980d-41ac-d953-8a4ac415d016"
      },
      "execution_count": null,
      "outputs": [
        {
          "output_type": "stream",
          "name": "stdout",
          "text": [
            "Drive already mounted at /content/drive; to attempt to forcibly remount, call drive.mount(\"/content/drive\", force_remount=True).\n"
          ]
        }
      ]
    },
    {
      "cell_type": "code",
      "source": [
        "df = pd.read_csv('/content/drive/MyDrive/Inteligencia Artificial Avanzada/Reto Titanic/train.csv')"
      ],
      "metadata": {
        "id": "F5tXliadwDpQ"
      },
      "execution_count": null,
      "outputs": []
    },
    {
      "cell_type": "code",
      "source": [
        "df.shape"
      ],
      "metadata": {
        "colab": {
          "base_uri": "https://localhost:8080/"
        },
        "id": "bBPCWn2Ew2Ba",
        "outputId": "f9a4f3f1-fdbf-44d7-9823-536d2894f476"
      },
      "execution_count": null,
      "outputs": [
        {
          "output_type": "execute_result",
          "data": {
            "text/plain": [
              "(891, 12)"
            ]
          },
          "metadata": {},
          "execution_count": 4
        }
      ]
    },
    {
      "cell_type": "code",
      "source": [
        "df.head(2)"
      ],
      "metadata": {
        "colab": {
          "base_uri": "https://localhost:8080/",
          "height": 191
        },
        "id": "OqPYvpVswueU",
        "outputId": "afab3115-f517-4c36-bee5-445970f0d21b"
      },
      "execution_count": null,
      "outputs": [
        {
          "output_type": "execute_result",
          "data": {
            "text/plain": [
              "   PassengerId  Survived  Pclass  \\\n",
              "0            1         0       3   \n",
              "1            2         1       1   \n",
              "\n",
              "                                                Name     Sex   Age  SibSp  \\\n",
              "0                            Braund, Mr. Owen Harris    male  22.0      1   \n",
              "1  Cumings, Mrs. John Bradley (Florence Briggs Th...  female  38.0      1   \n",
              "\n",
              "   Parch     Ticket     Fare Cabin Embarked  \n",
              "0      0  A/5 21171   7.2500   NaN        S  \n",
              "1      0   PC 17599  71.2833   C85        C  "
            ],
            "text/html": [
              "\n",
              "  <div id=\"df-b310279e-6837-444c-97d2-fcff622cf29e\">\n",
              "    <div class=\"colab-df-container\">\n",
              "      <div>\n",
              "<style scoped>\n",
              "    .dataframe tbody tr th:only-of-type {\n",
              "        vertical-align: middle;\n",
              "    }\n",
              "\n",
              "    .dataframe tbody tr th {\n",
              "        vertical-align: top;\n",
              "    }\n",
              "\n",
              "    .dataframe thead th {\n",
              "        text-align: right;\n",
              "    }\n",
              "</style>\n",
              "<table border=\"1\" class=\"dataframe\">\n",
              "  <thead>\n",
              "    <tr style=\"text-align: right;\">\n",
              "      <th></th>\n",
              "      <th>PassengerId</th>\n",
              "      <th>Survived</th>\n",
              "      <th>Pclass</th>\n",
              "      <th>Name</th>\n",
              "      <th>Sex</th>\n",
              "      <th>Age</th>\n",
              "      <th>SibSp</th>\n",
              "      <th>Parch</th>\n",
              "      <th>Ticket</th>\n",
              "      <th>Fare</th>\n",
              "      <th>Cabin</th>\n",
              "      <th>Embarked</th>\n",
              "    </tr>\n",
              "  </thead>\n",
              "  <tbody>\n",
              "    <tr>\n",
              "      <th>0</th>\n",
              "      <td>1</td>\n",
              "      <td>0</td>\n",
              "      <td>3</td>\n",
              "      <td>Braund, Mr. Owen Harris</td>\n",
              "      <td>male</td>\n",
              "      <td>22.0</td>\n",
              "      <td>1</td>\n",
              "      <td>0</td>\n",
              "      <td>A/5 21171</td>\n",
              "      <td>7.2500</td>\n",
              "      <td>NaN</td>\n",
              "      <td>S</td>\n",
              "    </tr>\n",
              "    <tr>\n",
              "      <th>1</th>\n",
              "      <td>2</td>\n",
              "      <td>1</td>\n",
              "      <td>1</td>\n",
              "      <td>Cumings, Mrs. John Bradley (Florence Briggs Th...</td>\n",
              "      <td>female</td>\n",
              "      <td>38.0</td>\n",
              "      <td>1</td>\n",
              "      <td>0</td>\n",
              "      <td>PC 17599</td>\n",
              "      <td>71.2833</td>\n",
              "      <td>C85</td>\n",
              "      <td>C</td>\n",
              "    </tr>\n",
              "  </tbody>\n",
              "</table>\n",
              "</div>\n",
              "      <button class=\"colab-df-convert\" onclick=\"convertToInteractive('df-b310279e-6837-444c-97d2-fcff622cf29e')\"\n",
              "              title=\"Convert this dataframe to an interactive table.\"\n",
              "              style=\"display:none;\">\n",
              "        \n",
              "  <svg xmlns=\"http://www.w3.org/2000/svg\" height=\"24px\"viewBox=\"0 0 24 24\"\n",
              "       width=\"24px\">\n",
              "    <path d=\"M0 0h24v24H0V0z\" fill=\"none\"/>\n",
              "    <path d=\"M18.56 5.44l.94 2.06.94-2.06 2.06-.94-2.06-.94-.94-2.06-.94 2.06-2.06.94zm-11 1L8.5 8.5l.94-2.06 2.06-.94-2.06-.94L8.5 2.5l-.94 2.06-2.06.94zm10 10l.94 2.06.94-2.06 2.06-.94-2.06-.94-.94-2.06-.94 2.06-2.06.94z\"/><path d=\"M17.41 7.96l-1.37-1.37c-.4-.4-.92-.59-1.43-.59-.52 0-1.04.2-1.43.59L10.3 9.45l-7.72 7.72c-.78.78-.78 2.05 0 2.83L4 21.41c.39.39.9.59 1.41.59.51 0 1.02-.2 1.41-.59l7.78-7.78 2.81-2.81c.8-.78.8-2.07 0-2.86zM5.41 20L4 18.59l7.72-7.72 1.47 1.35L5.41 20z\"/>\n",
              "  </svg>\n",
              "      </button>\n",
              "      \n",
              "  <style>\n",
              "    .colab-df-container {\n",
              "      display:flex;\n",
              "      flex-wrap:wrap;\n",
              "      gap: 12px;\n",
              "    }\n",
              "\n",
              "    .colab-df-convert {\n",
              "      background-color: #E8F0FE;\n",
              "      border: none;\n",
              "      border-radius: 50%;\n",
              "      cursor: pointer;\n",
              "      display: none;\n",
              "      fill: #1967D2;\n",
              "      height: 32px;\n",
              "      padding: 0 0 0 0;\n",
              "      width: 32px;\n",
              "    }\n",
              "\n",
              "    .colab-df-convert:hover {\n",
              "      background-color: #E2EBFA;\n",
              "      box-shadow: 0px 1px 2px rgba(60, 64, 67, 0.3), 0px 1px 3px 1px rgba(60, 64, 67, 0.15);\n",
              "      fill: #174EA6;\n",
              "    }\n",
              "\n",
              "    [theme=dark] .colab-df-convert {\n",
              "      background-color: #3B4455;\n",
              "      fill: #D2E3FC;\n",
              "    }\n",
              "\n",
              "    [theme=dark] .colab-df-convert:hover {\n",
              "      background-color: #434B5C;\n",
              "      box-shadow: 0px 1px 3px 1px rgba(0, 0, 0, 0.15);\n",
              "      filter: drop-shadow(0px 1px 2px rgba(0, 0, 0, 0.3));\n",
              "      fill: #FFFFFF;\n",
              "    }\n",
              "  </style>\n",
              "\n",
              "      <script>\n",
              "        const buttonEl =\n",
              "          document.querySelector('#df-b310279e-6837-444c-97d2-fcff622cf29e button.colab-df-convert');\n",
              "        buttonEl.style.display =\n",
              "          google.colab.kernel.accessAllowed ? 'block' : 'none';\n",
              "\n",
              "        async function convertToInteractive(key) {\n",
              "          const element = document.querySelector('#df-b310279e-6837-444c-97d2-fcff622cf29e');\n",
              "          const dataTable =\n",
              "            await google.colab.kernel.invokeFunction('convertToInteractive',\n",
              "                                                     [key], {});\n",
              "          if (!dataTable) return;\n",
              "\n",
              "          const docLinkHtml = 'Like what you see? Visit the ' +\n",
              "            '<a target=\"_blank\" href=https://colab.research.google.com/notebooks/data_table.ipynb>data table notebook</a>'\n",
              "            + ' to learn more about interactive tables.';\n",
              "          element.innerHTML = '';\n",
              "          dataTable['output_type'] = 'display_data';\n",
              "          await google.colab.output.renderOutput(dataTable, element);\n",
              "          const docLink = document.createElement('div');\n",
              "          docLink.innerHTML = docLinkHtml;\n",
              "          element.appendChild(docLink);\n",
              "        }\n",
              "      </script>\n",
              "    </div>\n",
              "  </div>\n",
              "  "
            ]
          },
          "metadata": {},
          "execution_count": 5
        }
      ]
    },
    {
      "cell_type": "code",
      "source": [
        "df.isna().sum()"
      ],
      "metadata": {
        "colab": {
          "base_uri": "https://localhost:8080/"
        },
        "id": "LkyuP620wvpK",
        "outputId": "4a6cd3b4-6990-4ba5-8e17-14b6895fcb2f"
      },
      "execution_count": null,
      "outputs": [
        {
          "output_type": "execute_result",
          "data": {
            "text/plain": [
              "PassengerId      0\n",
              "Survived         0\n",
              "Pclass           0\n",
              "Name             0\n",
              "Sex              0\n",
              "Age            177\n",
              "SibSp            0\n",
              "Parch            0\n",
              "Ticket           0\n",
              "Fare             0\n",
              "Cabin          687\n",
              "Embarked         2\n",
              "dtype: int64"
            ]
          },
          "metadata": {},
          "execution_count": 6
        }
      ]
    },
    {
      "cell_type": "code",
      "source": [
        "df = df[df['Embarked'].notna()]"
      ],
      "metadata": {
        "id": "PJzlO2hI2hFp"
      },
      "execution_count": null,
      "outputs": []
    },
    {
      "cell_type": "code",
      "source": [
        "df=df.drop(['Cabin','Name','Ticket','PassengerId'],axis = 1)"
      ],
      "metadata": {
        "id": "o3yhC358wzaQ"
      },
      "execution_count": null,
      "outputs": []
    },
    {
      "cell_type": "code",
      "source": [
        "df['Sex'].unique().tolist()"
      ],
      "metadata": {
        "colab": {
          "base_uri": "https://localhost:8080/"
        },
        "id": "2Y0n9xZPy3TK",
        "outputId": "7f6aeaee-fd26-4dbe-b250-0323c4a3b3b5"
      },
      "execution_count": null,
      "outputs": [
        {
          "output_type": "execute_result",
          "data": {
            "text/plain": [
              "['male', 'female']"
            ]
          },
          "metadata": {},
          "execution_count": 9
        }
      ]
    },
    {
      "cell_type": "code",
      "source": [
        "from sklearn import preprocessing\n",
        "leSex = preprocessing.LabelEncoder()\n",
        "leSex.fit(df['Sex'].unique().tolist())\n",
        "leEmb = preprocessing.LabelEncoder()\n",
        "leEmb.fit(df['Embarked'].unique().tolist())"
      ],
      "metadata": {
        "colab": {
          "base_uri": "https://localhost:8080/"
        },
        "id": "d-HVuuF5xFqW",
        "outputId": "95aa050c-f642-4a8d-847a-7005b2689d68"
      },
      "execution_count": null,
      "outputs": [
        {
          "output_type": "execute_result",
          "data": {
            "text/plain": [
              "LabelEncoder()"
            ]
          },
          "metadata": {},
          "execution_count": 10
        }
      ]
    },
    {
      "cell_type": "code",
      "source": [
        "df['Sex'] = leSex.transform(df['Sex'])\n",
        "df['Embarked'] = leEmb.transform(df['Embarked'])"
      ],
      "metadata": {
        "id": "1PBuIhk4ywbd"
      },
      "execution_count": null,
      "outputs": []
    },
    {
      "cell_type": "code",
      "source": [
        "df.head(2)"
      ],
      "metadata": {
        "colab": {
          "base_uri": "https://localhost:8080/",
          "height": 112
        },
        "id": "Xu2D_KS5zGWu",
        "outputId": "57cbbfd0-9b06-4936-d932-f61a751934e3"
      },
      "execution_count": null,
      "outputs": [
        {
          "output_type": "execute_result",
          "data": {
            "text/plain": [
              "   Survived  Pclass  Sex   Age  SibSp  Parch     Fare  Embarked\n",
              "0         0       3    1  22.0      1      0   7.2500         2\n",
              "1         1       1    0  38.0      1      0  71.2833         0"
            ],
            "text/html": [
              "\n",
              "  <div id=\"df-0f913266-d177-406e-bc09-bdc76c998d79\">\n",
              "    <div class=\"colab-df-container\">\n",
              "      <div>\n",
              "<style scoped>\n",
              "    .dataframe tbody tr th:only-of-type {\n",
              "        vertical-align: middle;\n",
              "    }\n",
              "\n",
              "    .dataframe tbody tr th {\n",
              "        vertical-align: top;\n",
              "    }\n",
              "\n",
              "    .dataframe thead th {\n",
              "        text-align: right;\n",
              "    }\n",
              "</style>\n",
              "<table border=\"1\" class=\"dataframe\">\n",
              "  <thead>\n",
              "    <tr style=\"text-align: right;\">\n",
              "      <th></th>\n",
              "      <th>Survived</th>\n",
              "      <th>Pclass</th>\n",
              "      <th>Sex</th>\n",
              "      <th>Age</th>\n",
              "      <th>SibSp</th>\n",
              "      <th>Parch</th>\n",
              "      <th>Fare</th>\n",
              "      <th>Embarked</th>\n",
              "    </tr>\n",
              "  </thead>\n",
              "  <tbody>\n",
              "    <tr>\n",
              "      <th>0</th>\n",
              "      <td>0</td>\n",
              "      <td>3</td>\n",
              "      <td>1</td>\n",
              "      <td>22.0</td>\n",
              "      <td>1</td>\n",
              "      <td>0</td>\n",
              "      <td>7.2500</td>\n",
              "      <td>2</td>\n",
              "    </tr>\n",
              "    <tr>\n",
              "      <th>1</th>\n",
              "      <td>1</td>\n",
              "      <td>1</td>\n",
              "      <td>0</td>\n",
              "      <td>38.0</td>\n",
              "      <td>1</td>\n",
              "      <td>0</td>\n",
              "      <td>71.2833</td>\n",
              "      <td>0</td>\n",
              "    </tr>\n",
              "  </tbody>\n",
              "</table>\n",
              "</div>\n",
              "      <button class=\"colab-df-convert\" onclick=\"convertToInteractive('df-0f913266-d177-406e-bc09-bdc76c998d79')\"\n",
              "              title=\"Convert this dataframe to an interactive table.\"\n",
              "              style=\"display:none;\">\n",
              "        \n",
              "  <svg xmlns=\"http://www.w3.org/2000/svg\" height=\"24px\"viewBox=\"0 0 24 24\"\n",
              "       width=\"24px\">\n",
              "    <path d=\"M0 0h24v24H0V0z\" fill=\"none\"/>\n",
              "    <path d=\"M18.56 5.44l.94 2.06.94-2.06 2.06-.94-2.06-.94-.94-2.06-.94 2.06-2.06.94zm-11 1L8.5 8.5l.94-2.06 2.06-.94-2.06-.94L8.5 2.5l-.94 2.06-2.06.94zm10 10l.94 2.06.94-2.06 2.06-.94-2.06-.94-.94-2.06-.94 2.06-2.06.94z\"/><path d=\"M17.41 7.96l-1.37-1.37c-.4-.4-.92-.59-1.43-.59-.52 0-1.04.2-1.43.59L10.3 9.45l-7.72 7.72c-.78.78-.78 2.05 0 2.83L4 21.41c.39.39.9.59 1.41.59.51 0 1.02-.2 1.41-.59l7.78-7.78 2.81-2.81c.8-.78.8-2.07 0-2.86zM5.41 20L4 18.59l7.72-7.72 1.47 1.35L5.41 20z\"/>\n",
              "  </svg>\n",
              "      </button>\n",
              "      \n",
              "  <style>\n",
              "    .colab-df-container {\n",
              "      display:flex;\n",
              "      flex-wrap:wrap;\n",
              "      gap: 12px;\n",
              "    }\n",
              "\n",
              "    .colab-df-convert {\n",
              "      background-color: #E8F0FE;\n",
              "      border: none;\n",
              "      border-radius: 50%;\n",
              "      cursor: pointer;\n",
              "      display: none;\n",
              "      fill: #1967D2;\n",
              "      height: 32px;\n",
              "      padding: 0 0 0 0;\n",
              "      width: 32px;\n",
              "    }\n",
              "\n",
              "    .colab-df-convert:hover {\n",
              "      background-color: #E2EBFA;\n",
              "      box-shadow: 0px 1px 2px rgba(60, 64, 67, 0.3), 0px 1px 3px 1px rgba(60, 64, 67, 0.15);\n",
              "      fill: #174EA6;\n",
              "    }\n",
              "\n",
              "    [theme=dark] .colab-df-convert {\n",
              "      background-color: #3B4455;\n",
              "      fill: #D2E3FC;\n",
              "    }\n",
              "\n",
              "    [theme=dark] .colab-df-convert:hover {\n",
              "      background-color: #434B5C;\n",
              "      box-shadow: 0px 1px 3px 1px rgba(0, 0, 0, 0.15);\n",
              "      filter: drop-shadow(0px 1px 2px rgba(0, 0, 0, 0.3));\n",
              "      fill: #FFFFFF;\n",
              "    }\n",
              "  </style>\n",
              "\n",
              "      <script>\n",
              "        const buttonEl =\n",
              "          document.querySelector('#df-0f913266-d177-406e-bc09-bdc76c998d79 button.colab-df-convert');\n",
              "        buttonEl.style.display =\n",
              "          google.colab.kernel.accessAllowed ? 'block' : 'none';\n",
              "\n",
              "        async function convertToInteractive(key) {\n",
              "          const element = document.querySelector('#df-0f913266-d177-406e-bc09-bdc76c998d79');\n",
              "          const dataTable =\n",
              "            await google.colab.kernel.invokeFunction('convertToInteractive',\n",
              "                                                     [key], {});\n",
              "          if (!dataTable) return;\n",
              "\n",
              "          const docLinkHtml = 'Like what you see? Visit the ' +\n",
              "            '<a target=\"_blank\" href=https://colab.research.google.com/notebooks/data_table.ipynb>data table notebook</a>'\n",
              "            + ' to learn more about interactive tables.';\n",
              "          element.innerHTML = '';\n",
              "          dataTable['output_type'] = 'display_data';\n",
              "          await google.colab.output.renderOutput(dataTable, element);\n",
              "          const docLink = document.createElement('div');\n",
              "          docLink.innerHTML = docLinkHtml;\n",
              "          element.appendChild(docLink);\n",
              "        }\n",
              "      </script>\n",
              "    </div>\n",
              "  </div>\n",
              "  "
            ]
          },
          "metadata": {},
          "execution_count": 12
        }
      ]
    },
    {
      "cell_type": "code",
      "source": [
        "df['Age'].fillna(df['Age'].median(),inplace = True)"
      ],
      "metadata": {
        "id": "5UjZooyA5EEH"
      },
      "execution_count": null,
      "outputs": []
    },
    {
      "cell_type": "code",
      "source": [
        "import seaborn as sns\n",
        "sns.heatmap(df.corr(), annot=True)"
      ],
      "metadata": {
        "colab": {
          "base_uri": "https://localhost:8080/",
          "height": 328
        },
        "id": "dL9A0mB15te5",
        "outputId": "9545e29b-836e-4799-bf9f-829a2cea160d"
      },
      "execution_count": null,
      "outputs": [
        {
          "output_type": "execute_result",
          "data": {
            "text/plain": [
              "<matplotlib.axes._subplots.AxesSubplot at 0x7f7969ce0c10>"
            ]
          },
          "metadata": {},
          "execution_count": 14
        },
        {
          "output_type": "display_data",
          "data": {
            "text/plain": [
              "<Figure size 432x288 with 2 Axes>"
            ],
            "image/png": "[encoded data removed]"
          },
          "metadata": {
            "needs_background": "light"
          }
        }
      ]
    },
    {
      "cell_type": "code",
      "source": [
        "df_kmeans = df.drop(['Survived'], axis = 1)"
      ],
      "metadata": {
        "id": "AbvqhWpD8lj8"
      },
      "execution_count": null,
      "outputs": []
    },
    {
      "cell_type": "code",
      "source": [
        "import matplotlib.pyplot as plt\n",
        "from sklearn.cluster import KMeans\n",
        "wcss = []\n",
        "for i in range(1, 11):\n",
        "    kmeans = KMeans(n_clusters = i, init = 'k-means++', random_state = 42)\n",
        "    kmeans.fit(df_kmeans)\n",
        "    wcss.append(kmeans.inertia_) #WCSS = within cluster sum of squares\n",
        "\n",
        "plt.plot(range(1, 11), wcss)\n",
        "plt.title('The Elbow Method')\n",
        "plt.xlabel('Number of clusters')\n",
        "plt.ylabel('WCSS') \n",
        "plt.show()"
      ],
      "metadata": {
        "colab": {
          "base_uri": "https://localhost:8080/",
          "height": 295
        },
        "id": "z9VmlRoR650Q",
        "outputId": "19c8dc77-ee4f-4fd3-aa00-98ddf0b76c1a"
      },
      "execution_count": null,
      "outputs": [
        {
          "output_type": "display_data",
          "data": {
            "text/plain": [
              "<Figure size 432x288 with 1 Axes>"
            ],
            "image/png": "[encoded data removed]"
          },
          "metadata": {
            "needs_background": "light"
          }
        }
      ]
    },
    {
      "cell_type": "code",
      "source": [
        "kmeans = KMeans(n_clusters = 2, init = 'k-means++', random_state = 42)\n",
        "y_kmeans = kmeans.fit_predict(df_kmeans)"
      ],
      "metadata": {
        "id": "DGJ6mb7H7bIz"
      },
      "execution_count": null,
      "outputs": []
    },
    {
      "cell_type": "code",
      "source": [
        "from sklearn.metrics import confusion_matrix\n",
        "confusion_matrix(df['Survived'], y_kmeans)"
      ],
      "metadata": {
        "colab": {
          "base_uri": "https://localhost:8080/"
        },
        "id": "3vEtCtS38OO_",
        "outputId": "b28cbbfb-bedf-4993-ea88-033ec9fdf5f4"
      },
      "execution_count": null,
      "outputs": [
        {
          "output_type": "execute_result",
          "data": {
            "text/plain": [
              "array([[ 14, 535],\n",
              "       [ 39, 301]])"
            ]
          },
          "metadata": {},
          "execution_count": 18
        }
      ]
    },
    {
      "cell_type": "markdown",
      "source": [
        "## Sex, Fare, Class"
      ],
      "metadata": {
        "id": "Pj6wForY-14G"
      }
    },
    {
      "cell_type": "code",
      "source": [
        "df_1 = df_kmeans.drop(['Embarked','Parch','SibSp','Age'],axis = 1)"
      ],
      "metadata": {
        "id": "oibrIj5h8SpY"
      },
      "execution_count": null,
      "outputs": []
    },
    {
      "cell_type": "code",
      "source": [
        "df_1.head(1)"
      ],
      "metadata": {
        "colab": {
          "base_uri": "https://localhost:8080/",
          "height": 81
        },
        "id": "ve143Bm5_Y_p",
        "outputId": "6b5b6d36-5b8d-4d51-ffd9-c46fea9e9822"
      },
      "execution_count": null,
      "outputs": [
        {
          "output_type": "execute_result",
          "data": {
            "text/plain": [
              "   Pclass  Sex  Fare\n",
              "0       3    1  7.25"
            ],
            "text/html": [
              "\n",
              "  <div id=\"df-87fc43b8-0e3d-409c-b943-20fc97eb0053\">\n",
              "    <div class=\"colab-df-container\">\n",
              "      <div>\n",
              "<style scoped>\n",
              "    .dataframe tbody tr th:only-of-type {\n",
              "        vertical-align: middle;\n",
              "    }\n",
              "\n",
              "    .dataframe tbody tr th {\n",
              "        vertical-align: top;\n",
              "    }\n",
              "\n",
              "    .dataframe thead th {\n",
              "        text-align: right;\n",
              "    }\n",
              "</style>\n",
              "<table border=\"1\" class=\"dataframe\">\n",
              "  <thead>\n",
              "    <tr style=\"text-align: right;\">\n",
              "      <th></th>\n",
              "      <th>Pclass</th>\n",
              "      <th>Sex</th>\n",
              "      <th>Fare</th>\n",
              "    </tr>\n",
              "  </thead>\n",
              "  <tbody>\n",
              "    <tr>\n",
              "      <th>0</th>\n",
              "      <td>3</td>\n",
              "      <td>1</td>\n",
              "      <td>7.25</td>\n",
              "    </tr>\n",
              "  </tbody>\n",
              "</table>\n",
              "</div>\n",
              "      <button class=\"colab-df-convert\" onclick=\"convertToInteractive('df-87fc43b8-0e3d-409c-b943-20fc97eb0053')\"\n",
              "              title=\"Convert this dataframe to an interactive table.\"\n",
              "              style=\"display:none;\">\n",
              "        \n",
              "  <svg xmlns=\"http://www.w3.org/2000/svg\" height=\"24px\"viewBox=\"0 0 24 24\"\n",
              "       width=\"24px\">\n",
              "    <path d=\"M0 0h24v24H0V0z\" fill=\"none\"/>\n",
              "    <path d=\"M18.56 5.44l.94 2.06.94-2.06 2.06-.94-2.06-.94-.94-2.06-.94 2.06-2.06.94zm-11 1L8.5 8.5l.94-2.06 2.06-.94-2.06-.94L8.5 2.5l-.94 2.06-2.06.94zm10 10l.94 2.06.94-2.06 2.06-.94-2.06-.94-.94-2.06-.94 2.06-2.06.94z\"/><path d=\"M17.41 7.96l-1.37-1.37c-.4-.4-.92-.59-1.43-.59-.52 0-1.04.2-1.43.59L10.3 9.45l-7.72 7.72c-.78.78-.78 2.05 0 2.83L4 21.41c.39.39.9.59 1.41.59.51 0 1.02-.2 1.41-.59l7.78-7.78 2.81-2.81c.8-.78.8-2.07 0-2.86zM5.41 20L4 18.59l7.72-7.72 1.47 1.35L5.41 20z\"/>\n",
              "  </svg>\n",
              "      </button>\n",
              "      \n",
              "  <style>\n",
              "    .colab-df-container {\n",
              "      display:flex;\n",
              "      flex-wrap:wrap;\n",
              "      gap: 12px;\n",
              "    }\n",
              "\n",
              "    .colab-df-convert {\n",
              "      background-color: #E8F0FE;\n",
              "      border: none;\n",
              "      border-radius: 50%;\n",
              "      cursor: pointer;\n",
              "      display: none;\n",
              "      fill: #1967D2;\n",
              "      height: 32px;\n",
              "      padding: 0 0 0 0;\n",
              "      width: 32px;\n",
              "    }\n",
              "\n",
              "    .colab-df-convert:hover {\n",
              "      background-color: #E2EBFA;\n",
              "      box-shadow: 0px 1px 2px rgba(60, 64, 67, 0.3), 0px 1px 3px 1px rgba(60, 64, 67, 0.15);\n",
              "      fill: #174EA6;\n",
              "    }\n",
              "\n",
              "    [theme=dark] .colab-df-convert {\n",
              "      background-color: #3B4455;\n",
              "      fill: #D2E3FC;\n",
              "    }\n",
              "\n",
              "    [theme=dark] .colab-df-convert:hover {\n",
              "      background-color: #434B5C;\n",
              "      box-shadow: 0px 1px 3px 1px rgba(0, 0, 0, 0.15);\n",
              "      filter: drop-shadow(0px 1px 2px rgba(0, 0, 0, 0.3));\n",
              "      fill: #FFFFFF;\n",
              "    }\n",
              "  </style>\n",
              "\n",
              "      <script>\n",
              "        const buttonEl =\n",
              "          document.querySelector('#df-87fc43b8-0e3d-409c-b943-20fc97eb0053 button.colab-df-convert');\n",
              "        buttonEl.style.display =\n",
              "          google.colab.kernel.accessAllowed ? 'block' : 'none';\n",
              "\n",
              "        async function convertToInteractive(key) {\n",
              "          const element = document.querySelector('#df-87fc43b8-0e3d-409c-b943-20fc97eb0053');\n",
              "          const dataTable =\n",
              "            await google.colab.kernel.invokeFunction('convertToInteractive',\n",
              "                                                     [key], {});\n",
              "          if (!dataTable) return;\n",
              "\n",
              "          const docLinkHtml = 'Like what you see? Visit the ' +\n",
              "            '<a target=\"_blank\" href=https://colab.research.google.com/notebooks/data_table.ipynb>data table notebook</a>'\n",
              "            + ' to learn more about interactive tables.';\n",
              "          element.innerHTML = '';\n",
              "          dataTable['output_type'] = 'display_data';\n",
              "          await google.colab.output.renderOutput(dataTable, element);\n",
              "          const docLink = document.createElement('div');\n",
              "          docLink.innerHTML = docLinkHtml;\n",
              "          element.appendChild(docLink);\n",
              "        }\n",
              "      </script>\n",
              "    </div>\n",
              "  </div>\n",
              "  "
            ]
          },
          "metadata": {},
          "execution_count": 20
        }
      ]
    },
    {
      "cell_type": "code",
      "source": [
        "kmeans3 = KMeans(n_clusters = 2, init = 'k-means++', random_state = 42)\n",
        "y_kmeans3 = kmeans3.fit_predict(df_1)"
      ],
      "metadata": {
        "id": "hP82uQWy_dOV"
      },
      "execution_count": null,
      "outputs": []
    },
    {
      "cell_type": "code",
      "source": [
        "df_3 = df_1.values"
      ],
      "metadata": {
        "id": "IOCHF0ulAFhx"
      },
      "execution_count": null,
      "outputs": []
    },
    {
      "cell_type": "code",
      "source": [
        "# Creamos la figura\n",
        "fig = plt.figure()\n",
        "\n",
        "# Creamos el plano 3D\n",
        "ax1 = fig.add_subplot(111, projection='3d')\n",
        "\n",
        "col = ['cyan','green','blue']\n",
        "#Agregamos los puntos\n",
        "for i in range(0,2):\n",
        "  x = df_3[y_kmeans3 == i, 0]\n",
        "  y = df_3[y_kmeans3 == i, 1]\n",
        "  z = df_3[y_kmeans3 == i, 2]\n",
        "  clasi = 'Cluster '+str(i+1)\n",
        "  ax1.scatter(x, y, z, c = col[i-1], s = 150,label = clasi)\n",
        "\n",
        "# Agregamos los centros\n",
        "x = kmeans3.cluster_centers_[:, 0]\n",
        "y = kmeans3.cluster_centers_[:, 1]\n",
        "z = kmeans3.cluster_centers_[:, 2]\n",
        "ax1.scatter(x, y, z, c = 'yellow', s = 200, label = 'Centroids')\n",
        "\n",
        "plt.rcParams[\"figure.figsize\"] = (15,12)\n",
        "plt.title('Cluster')\n",
        "plt.legend()\n",
        "plt.xlabel('Class')\n",
        "plt.ylabel('Sex')\n",
        "\n",
        "plt.show()"
      ],
      "metadata": {
        "colab": {
          "base_uri": "https://localhost:8080/",
          "height": 248
        },
        "id": "jPVpKCKq_wCG",
        "outputId": "fab67a5c-b452-4d9d-b7c9-80646feed992"
      },
      "execution_count": null,
      "outputs": [
        {
          "output_type": "display_data",
          "data": {
            "text/plain": [
              "<Figure size 432x288 with 1 Axes>"
            ],
            "image/png": "[encoded data removed]"
          },
          "metadata": {
            "needs_background": "light"
          }
        }
      ]
    },
    {
      "cell_type": "code",
      "source": [
        "confusion_matrix(df['Survived'], y_kmeans3)"
      ],
      "metadata": {
        "colab": {
          "base_uri": "https://localhost:8080/"
        },
        "id": "uj4DGc0P_77Q",
        "outputId": "15edb9f1-774e-4b94-c25b-0680233f69ae"
      },
      "execution_count": null,
      "outputs": [
        {
          "output_type": "execute_result",
          "data": {
            "text/plain": [
              "array([[535,  14],\n",
              "       [301,  39]])"
            ]
          },
          "metadata": {},
          "execution_count": 24
        }
      ]
    },
    {
      "cell_type": "code",
      "source": [
        "zdata = 15 * np.random.random(889)\n",
        "ax = plt.axes(projection='3d')\n",
        "ax.scatter3D(df_1['Pclass'], df_1['Sex'], df_1['Fare'], cmap='Greens')"
      ],
      "metadata": {
        "colab": {
          "base_uri": "https://localhost:8080/",
          "height": 701
        },
        "id": "gMvrjA7yKQzm",
        "outputId": "220bea3d-5fc3-435b-95d9-17b8eeeee5ed"
      },
      "execution_count": null,
      "outputs": [
        {
          "output_type": "execute_result",
          "data": {
            "text/plain": [
              "<mpl_toolkits.mplot3d.art3d.Path3DCollection at 0x7f7963140ad0>"
            ]
          },
          "metadata": {},
          "execution_count": 25
        },
        {
          "output_type": "display_data",
          "data": {
            "text/plain": [
              "<Figure size 1080x864 with 1 Axes>"
            ],
            "image/png": "[encoded data removed]"
          },
          "metadata": {
            "needs_background": "light"
          }
        }
      ]
    },
    {
      "cell_type": "markdown",
      "source": [],
      "metadata": {
        "id": "hmgQMeVrOuP8"
      }
    },
    {
      "cell_type": "markdown",
      "source": [
        "## Age y Fare"
      ],
      "metadata": {
        "id": "RJQSkpYGOuV5"
      }
    },
    {
      "cell_type": "code",
      "source": [
        "df_2 = df[['Age','Fare']]"
      ],
      "metadata": {
        "id": "VoPbXOamLVh3"
      },
      "execution_count": null,
      "outputs": []
    },
    {
      "cell_type": "code",
      "source": [
        "df_2 = df_2.values"
      ],
      "metadata": {
        "id": "6iYK_8gyQFZB"
      },
      "execution_count": null,
      "outputs": []
    },
    {
      "cell_type": "code",
      "source": [
        "wcss = []\n",
        "for i in range(1, 11):\n",
        "    kmeans_2 = KMeans(n_clusters = i, init = 'k-means++', random_state = 42)\n",
        "    kmeans_2.fit(df_2)\n",
        "    wcss.append(kmeans_2.inertia_) #WCSS = within cluster sum of squares\n",
        "\n",
        "plt.plot(range(1, 11), wcss)\n",
        "plt.title('The Elbow Method')\n",
        "plt.xlabel('Number of clusters')\n",
        "plt.ylabel('WCSS') \n",
        "plt.show()"
      ],
      "metadata": {
        "colab": {
          "base_uri": "https://localhost:8080/",
          "height": 730
        },
        "id": "arilS82vPPGZ",
        "outputId": "2f1654de-0044-4170-adf6-8c46bf9e501f"
      },
      "execution_count": null,
      "outputs": [
        {
          "output_type": "display_data",
          "data": {
            "text/plain": [
              "<Figure size 1080x864 with 1 Axes>"
            ],
            "image/png": "[encoded data removed]"
          },
          "metadata": {
            "needs_background": "light"
          }
        }
      ]
    },
    {
      "cell_type": "code",
      "source": [
        "kmeans2 = KMeans(n_clusters = 2, init = 'k-means++', random_state = 42)\n",
        "y_kmeans2 = kmeans2.fit_predict(df_2)"
      ],
      "metadata": {
        "id": "c6QqmobUO7Y7"
      },
      "execution_count": null,
      "outputs": []
    },
    {
      "cell_type": "code",
      "source": [
        "plt.figure(figsize=(10,5))\n",
        "plt.scatter(df_2[y_kmeans2 == 0, 0], df_2[y_kmeans2 == 0, 1], s = 50, c = 'red', label = 'Cluster 1')\n",
        "plt.scatter(df_2[y_kmeans2 == 1, 0], df_2[y_kmeans2 == 1, 1], s = 50, c = 'blue', label = 'Cluster 2')\n",
        "#plt.scatter(df_2[y_kmeans2 == 2, 0], df_2[y_kmeans2 == 2, 1], s = 50, c = 'green', label = 'Cluster 3')\n",
        "#plt.scatter(df_2[y_kmeans2 == 3, 0], df_2[y_kmeans2 == 3, 1], s = 100, c = 'cyan', label = 'Cluster 4')\n",
        "plt.scatter(kmeans2.cluster_centers_[:, 0], kmeans2.cluster_centers_[:, 1], s = 300, c = 'yellow', label = 'Centroids')\n",
        "plt.title('Clusters of customers')\n",
        "plt.xlabel('Annual Income (k$)')\n",
        "plt.ylabel('Spending Score (1-100)')\n",
        "plt.legend()\n",
        "plt.show()"
      ],
      "metadata": {
        "colab": {
          "base_uri": "https://localhost:8080/",
          "height": 350
        },
        "id": "SsbGhr0qPcOT",
        "outputId": "2d3bb6e3-16d5-4054-a132-8dc4f39e5b09"
      },
      "execution_count": null,
      "outputs": [
        {
          "output_type": "display_data",
          "data": {
            "text/plain": [
              "<Figure size 720x360 with 1 Axes>"
            ],
            "image/png": "[encoded data removed]"
          },
          "metadata": {
            "needs_background": "light"
          }
        }
      ]
    },
    {
      "cell_type": "code",
      "source": [
        "confusion_matrix(df['Survived'], y_kmeans2)"
      ],
      "metadata": {
        "colab": {
          "base_uri": "https://localhost:8080/"
        },
        "id": "6VtXwVEVP0P8",
        "outputId": "12bd3730-1068-4135-f852-ef45bf30c54b"
      },
      "execution_count": null,
      "outputs": [
        {
          "output_type": "execute_result",
          "data": {
            "text/plain": [
              "array([[ 14, 535],\n",
              "       [ 39, 301]])"
            ]
          },
          "metadata": {},
          "execution_count": 31
        }
      ]
    },
    {
      "cell_type": "code",
      "source": [
        "plt.figure(figsize=(10,5))\n",
        "ax = plt.subplot()\n",
        "ax.scatter(df[df['Survived'] == 1]['Age'], df[df['Survived']==1]['Fare'], c= 'green',s =50)\n",
        "ax.scatter(df[df['Survived'] == 0]['Age'], df[df['Survived']==0]['Fare'], c= 'red',s =50)"
      ],
      "metadata": {
        "colab": {
          "base_uri": "https://localhost:8080/",
          "height": 338
        },
        "id": "RTtvr937TvRk",
        "outputId": "1b79f712-3951-413d-a6f9-c94730c4edf5"
      },
      "execution_count": null,
      "outputs": [
        {
          "output_type": "execute_result",
          "data": {
            "text/plain": [
              "<matplotlib.collections.PathCollection at 0x7f79617431d0>"
            ]
          },
          "metadata": {},
          "execution_count": 32
        },
        {
          "output_type": "display_data",
          "data": {
            "text/plain": [
              "<Figure size 720x360 with 1 Axes>"
            ],
            "image/png": "[encoded data removed]"
          },
          "metadata": {
            "needs_background": "light"
          }
        }
      ]
    },
    {
      "cell_type": "markdown",
      "source": [
        "# Random Forest"
      ],
      "metadata": {
        "id": "nkQ9pHStZXpz"
      }
    },
    {
      "cell_type": "code",
      "source": [
        "df_train = pd.read_csv('/content/drive/MyDrive/Inteligencia Artificial Avanzada/Reto Titanic/train.csv')\n",
        "df_test = pd.read_csv('/content/drive/MyDrive/Inteligencia Artificial Avanzada/Reto Titanic/test.csv')\n",
        "df_val = pd.read_csv('/content/drive/MyDrive/Inteligencia Artificial Avanzada/Reto Titanic/gender_submission.csv')"
      ],
      "metadata": {
        "id": "Lb9_H3gL_arx"
      },
      "execution_count": null,
      "outputs": []
    },
    {
      "cell_type": "code",
      "source": [
        "df_train.head()"
      ],
      "metadata": {
        "colab": {
          "base_uri": "https://localhost:8080/",
          "height": 302
        },
        "id": "ksFhHeAb_j6S",
        "outputId": "cf885885-2f38-4eaf-afe3-abb1c693573f"
      },
      "execution_count": null,
      "outputs": [
        {
          "output_type": "execute_result",
          "data": {
            "text/plain": [
              "   PassengerId  Survived  Pclass  \\\n",
              "0            1         0       3   \n",
              "1            2         1       1   \n",
              "2            3         1       3   \n",
              "3            4         1       1   \n",
              "4            5         0       3   \n",
              "\n",
              "                                                Name     Sex   Age  SibSp  \\\n",
              "0                            Braund, Mr. Owen Harris    male  22.0      1   \n",
              "1  Cumings, Mrs. John Bradley (Florence Briggs Th...  female  38.0      1   \n",
              "2                             Heikkinen, Miss. Laina  female  26.0      0   \n",
              "3       Futrelle, Mrs. Jacques Heath (Lily May Peel)  female  35.0      1   \n",
              "4                           Allen, Mr. William Henry    male  35.0      0   \n",
              "\n",
              "   Parch            Ticket     Fare Cabin Embarked  \n",
              "0      0         A/5 21171   7.2500   NaN        S  \n",
              "1      0          PC 17599  71.2833   C85        C  \n",
              "2      0  STON/O2. 3101282   7.9250   NaN        S  \n",
              "3      0            113803  53.1000  C123        S  \n",
              "4      0            373450   8.0500   NaN        S  "
            ],
            "text/html": [
              "\n",
              "  <div id=\"df-d28db741-0eb3-4375-9edb-68d25f35fa20\">\n",
              "    <div class=\"colab-df-container\">\n",
              "      <div>\n",
              "<style scoped>\n",
              "    .dataframe tbody tr th:only-of-type {\n",
              "        vertical-align: middle;\n",
              "    }\n",
              "\n",
              "    .dataframe tbody tr th {\n",
              "        vertical-align: top;\n",
              "    }\n",
              "\n",
              "    .dataframe thead th {\n",
              "        text-align: right;\n",
              "    }\n",
              "</style>\n",
              "<table border=\"1\" class=\"dataframe\">\n",
              "  <thead>\n",
              "    <tr style=\"text-align: right;\">\n",
              "      <th></th>\n",
              "      <th>PassengerId</th>\n",
              "      <th>Survived</th>\n",
              "      <th>Pclass</th>\n",
              "      <th>Name</th>\n",
              "      <th>Sex</th>\n",
              "      <th>Age</th>\n",
              "      <th>SibSp</th>\n",
              "      <th>Parch</th>\n",
              "      <th>Ticket</th>\n",
              "      <th>Fare</th>\n",
              "      <th>Cabin</th>\n",
              "      <th>Embarked</th>\n",
              "    </tr>\n",
              "  </thead>\n",
              "  <tbody>\n",
              "    <tr>\n",
              "      <th>0</th>\n",
              "      <td>1</td>\n",
              "      <td>0</td>\n",
              "      <td>3</td>\n",
              "      <td>Braund, Mr. Owen Harris</td>\n",
              "      <td>male</td>\n",
              "      <td>22.0</td>\n",
              "      <td>1</td>\n",
              "      <td>0</td>\n",
              "      <td>A/5 21171</td>\n",
              "      <td>7.2500</td>\n",
              "      <td>NaN</td>\n",
              "      <td>S</td>\n",
              "    </tr>\n",
              "    <tr>\n",
              "      <th>1</th>\n",
              "      <td>2</td>\n",
              "      <td>1</td>\n",
              "      <td>1</td>\n",
              "      <td>Cumings, Mrs. John Bradley (Florence Briggs Th...</td>\n",
              "      <td>female</td>\n",
              "      <td>38.0</td>\n",
              "      <td>1</td>\n",
              "      <td>0</td>\n",
              "      <td>PC 17599</td>\n",
              "      <td>71.2833</td>\n",
              "      <td>C85</td>\n",
              "      <td>C</td>\n",
              "    </tr>\n",
              "    <tr>\n",
              "      <th>2</th>\n",
              "      <td>3</td>\n",
              "      <td>1</td>\n",
              "      <td>3</td>\n",
              "      <td>Heikkinen, Miss. Laina</td>\n",
              "      <td>female</td>\n",
              "      <td>26.0</td>\n",
              "      <td>0</td>\n",
              "      <td>0</td>\n",
              "      <td>STON/O2. 3101282</td>\n",
              "      <td>7.9250</td>\n",
              "      <td>NaN</td>\n",
              "      <td>S</td>\n",
              "    </tr>\n",
              "    <tr>\n",
              "      <th>3</th>\n",
              "      <td>4</td>\n",
              "      <td>1</td>\n",
              "      <td>1</td>\n",
              "      <td>Futrelle, Mrs. Jacques Heath (Lily May Peel)</td>\n",
              "      <td>female</td>\n",
              "      <td>35.0</td>\n",
              "      <td>1</td>\n",
              "      <td>0</td>\n",
              "      <td>113803</td>\n",
              "      <td>53.1000</td>\n",
              "      <td>C123</td>\n",
              "      <td>S</td>\n",
              "    </tr>\n",
              "    <tr>\n",
              "      <th>4</th>\n",
              "      <td>5</td>\n",
              "      <td>0</td>\n",
              "      <td>3</td>\n",
              "      <td>Allen, Mr. William Henry</td>\n",
              "      <td>male</td>\n",
              "      <td>35.0</td>\n",
              "      <td>0</td>\n",
              "      <td>0</td>\n",
              "      <td>373450</td>\n",
              "      <td>8.0500</td>\n",
              "      <td>NaN</td>\n",
              "      <td>S</td>\n",
              "    </tr>\n",
              "  </tbody>\n",
              "</table>\n",
              "</div>\n",
              "      <button class=\"colab-df-convert\" onclick=\"convertToInteractive('df-d28db741-0eb3-4375-9edb-68d25f35fa20')\"\n",
              "              title=\"Convert this dataframe to an interactive table.\"\n",
              "              style=\"display:none;\">\n",
              "        \n",
              "  <svg xmlns=\"http://www.w3.org/2000/svg\" height=\"24px\"viewBox=\"0 0 24 24\"\n",
              "       width=\"24px\">\n",
              "    <path d=\"M0 0h24v24H0V0z\" fill=\"none\"/>\n",
              "    <path d=\"M18.56 5.44l.94 2.06.94-2.06 2.06-.94-2.06-.94-.94-2.06-.94 2.06-2.06.94zm-11 1L8.5 8.5l.94-2.06 2.06-.94-2.06-.94L8.5 2.5l-.94 2.06-2.06.94zm10 10l.94 2.06.94-2.06 2.06-.94-2.06-.94-.94-2.06-.94 2.06-2.06.94z\"/><path d=\"M17.41 7.96l-1.37-1.37c-.4-.4-.92-.59-1.43-.59-.52 0-1.04.2-1.43.59L10.3 9.45l-7.72 7.72c-.78.78-.78 2.05 0 2.83L4 21.41c.39.39.9.59 1.41.59.51 0 1.02-.2 1.41-.59l7.78-7.78 2.81-2.81c.8-.78.8-2.07 0-2.86zM5.41 20L4 18.59l7.72-7.72 1.47 1.35L5.41 20z\"/>\n",
              "  </svg>\n",
              "      </button>\n",
              "      \n",
              "  <style>\n",
              "    .colab-df-container {\n",
              "      display:flex;\n",
              "      flex-wrap:wrap;\n",
              "      gap: 12px;\n",
              "    }\n",
              "\n",
              "    .colab-df-convert {\n",
              "      background-color: #E8F0FE;\n",
              "      border: none;\n",
              "      border-radius: 50%;\n",
              "      cursor: pointer;\n",
              "      display: none;\n",
              "      fill: #1967D2;\n",
              "      height: 32px;\n",
              "      padding: 0 0 0 0;\n",
              "      width: 32px;\n",
              "    }\n",
              "\n",
              "    .colab-df-convert:hover {\n",
              "      background-color: #E2EBFA;\n",
              "      box-shadow: 0px 1px 2px rgba(60, 64, 67, 0.3), 0px 1px 3px 1px rgba(60, 64, 67, 0.15);\n",
              "      fill: #174EA6;\n",
              "    }\n",
              "\n",
              "    [theme=dark] .colab-df-convert {\n",
              "      background-color: #3B4455;\n",
              "      fill: #D2E3FC;\n",
              "    }\n",
              "\n",
              "    [theme=dark] .colab-df-convert:hover {\n",
              "      background-color: #434B5C;\n",
              "      box-shadow: 0px 1px 3px 1px rgba(0, 0, 0, 0.15);\n",
              "      filter: drop-shadow(0px 1px 2px rgba(0, 0, 0, 0.3));\n",
              "      fill: #FFFFFF;\n",
              "    }\n",
              "  </style>\n",
              "\n",
              "      <script>\n",
              "        const buttonEl =\n",
              "          document.querySelector('#df-d28db741-0eb3-4375-9edb-68d25f35fa20 button.colab-df-convert');\n",
              "        buttonEl.style.display =\n",
              "          google.colab.kernel.accessAllowed ? 'block' : 'none';\n",
              "\n",
              "        async function convertToInteractive(key) {\n",
              "          const element = document.querySelector('#df-d28db741-0eb3-4375-9edb-68d25f35fa20');\n",
              "          const dataTable =\n",
              "            await google.colab.kernel.invokeFunction('convertToInteractive',\n",
              "                                                     [key], {});\n",
              "          if (!dataTable) return;\n",
              "\n",
              "          const docLinkHtml = 'Like what you see? Visit the ' +\n",
              "            '<a target=\"_blank\" href=https://colab.research.google.com/notebooks/data_table.ipynb>data table notebook</a>'\n",
              "            + ' to learn more about interactive tables.';\n",
              "          element.innerHTML = '';\n",
              "          dataTable['output_type'] = 'display_data';\n",
              "          await google.colab.output.renderOutput(dataTable, element);\n",
              "          const docLink = document.createElement('div');\n",
              "          docLink.innerHTML = docLinkHtml;\n",
              "          element.appendChild(docLink);\n",
              "        }\n",
              "      </script>\n",
              "    </div>\n",
              "  </div>\n",
              "  "
            ]
          },
          "metadata": {},
          "execution_count": 34
        }
      ]
    },
    {
      "cell_type": "code",
      "source": [
        "df_test['Survived'] = df_val['Survived']"
      ],
      "metadata": {
        "id": "aOwvYXAv8Qa2"
      },
      "execution_count": null,
      "outputs": []
    },
    {
      "cell_type": "code",
      "source": [
        "df_test.head(2)"
      ],
      "metadata": {
        "colab": {
          "base_uri": "https://localhost:8080/",
          "height": 112
        },
        "id": "TkFEiqYgPTBl",
        "outputId": "cb5c8d1c-f10c-46c0-ab12-5375f177e10d"
      },
      "execution_count": null,
      "outputs": [
        {
          "output_type": "execute_result",
          "data": {
            "text/plain": [
              "   PassengerId  Pclass                              Name     Sex   Age  SibSp  \\\n",
              "0          892       3                  Kelly, Mr. James    male  34.5      0   \n",
              "1          893       3  Wilkes, Mrs. James (Ellen Needs)  female  47.0      1   \n",
              "\n",
              "   Parch  Ticket    Fare Cabin Embarked  Survived  \n",
              "0      0  330911  7.8292   NaN        Q         0  \n",
              "1      0  363272  7.0000   NaN        S         1  "
            ],
            "text/html": [
              "\n",
              "  <div id=\"df-ccf31293-7df0-451c-9cb3-2f8df3c3fdb4\">\n",
              "    <div class=\"colab-df-container\">\n",
              "      <div>\n",
              "<style scoped>\n",
              "    .dataframe tbody tr th:only-of-type {\n",
              "        vertical-align: middle;\n",
              "    }\n",
              "\n",
              "    .dataframe tbody tr th {\n",
              "        vertical-align: top;\n",
              "    }\n",
              "\n",
              "    .dataframe thead th {\n",
              "        text-align: right;\n",
              "    }\n",
              "</style>\n",
              "<table border=\"1\" class=\"dataframe\">\n",
              "  <thead>\n",
              "    <tr style=\"text-align: right;\">\n",
              "      <th></th>\n",
              "      <th>PassengerId</th>\n",
              "      <th>Pclass</th>\n",
              "      <th>Name</th>\n",
              "      <th>Sex</th>\n",
              "      <th>Age</th>\n",
              "      <th>SibSp</th>\n",
              "      <th>Parch</th>\n",
              "      <th>Ticket</th>\n",
              "      <th>Fare</th>\n",
              "      <th>Cabin</th>\n",
              "      <th>Embarked</th>\n",
              "      <th>Survived</th>\n",
              "    </tr>\n",
              "  </thead>\n",
              "  <tbody>\n",
              "    <tr>\n",
              "      <th>0</th>\n",
              "      <td>892</td>\n",
              "      <td>3</td>\n",
              "      <td>Kelly, Mr. James</td>\n",
              "      <td>male</td>\n",
              "      <td>34.5</td>\n",
              "      <td>0</td>\n",
              "      <td>0</td>\n",
              "      <td>330911</td>\n",
              "      <td>7.8292</td>\n",
              "      <td>NaN</td>\n",
              "      <td>Q</td>\n",
              "      <td>0</td>\n",
              "    </tr>\n",
              "    <tr>\n",
              "      <th>1</th>\n",
              "      <td>893</td>\n",
              "      <td>3</td>\n",
              "      <td>Wilkes, Mrs. James (Ellen Needs)</td>\n",
              "      <td>female</td>\n",
              "      <td>47.0</td>\n",
              "      <td>1</td>\n",
              "      <td>0</td>\n",
              "      <td>363272</td>\n",
              "      <td>7.0000</td>\n",
              "      <td>NaN</td>\n",
              "      <td>S</td>\n",
              "      <td>1</td>\n",
              "    </tr>\n",
              "  </tbody>\n",
              "</table>\n",
              "</div>\n",
              "      <button class=\"colab-df-convert\" onclick=\"convertToInteractive('df-ccf31293-7df0-451c-9cb3-2f8df3c3fdb4')\"\n",
              "              title=\"Convert this dataframe to an interactive table.\"\n",
              "              style=\"display:none;\">\n",
              "        \n",
              "  <svg xmlns=\"http://www.w3.org/2000/svg\" height=\"24px\"viewBox=\"0 0 24 24\"\n",
              "       width=\"24px\">\n",
              "    <path d=\"M0 0h24v24H0V0z\" fill=\"none\"/>\n",
              "    <path d=\"M18.56 5.44l.94 2.06.94-2.06 2.06-.94-2.06-.94-.94-2.06-.94 2.06-2.06.94zm-11 1L8.5 8.5l.94-2.06 2.06-.94-2.06-.94L8.5 2.5l-.94 2.06-2.06.94zm10 10l.94 2.06.94-2.06 2.06-.94-2.06-.94-.94-2.06-.94 2.06-2.06.94z\"/><path d=\"M17.41 7.96l-1.37-1.37c-.4-.4-.92-.59-1.43-.59-.52 0-1.04.2-1.43.59L10.3 9.45l-7.72 7.72c-.78.78-.78 2.05 0 2.83L4 21.41c.39.39.9.59 1.41.59.51 0 1.02-.2 1.41-.59l7.78-7.78 2.81-2.81c.8-.78.8-2.07 0-2.86zM5.41 20L4 18.59l7.72-7.72 1.47 1.35L5.41 20z\"/>\n",
              "  </svg>\n",
              "      </button>\n",
              "      \n",
              "  <style>\n",
              "    .colab-df-container {\n",
              "      display:flex;\n",
              "      flex-wrap:wrap;\n",
              "      gap: 12px;\n",
              "    }\n",
              "\n",
              "    .colab-df-convert {\n",
              "      background-color: #E8F0FE;\n",
              "      border: none;\n",
              "      border-radius: 50%;\n",
              "      cursor: pointer;\n",
              "      display: none;\n",
              "      fill: #1967D2;\n",
              "      height: 32px;\n",
              "      padding: 0 0 0 0;\n",
              "      width: 32px;\n",
              "    }\n",
              "\n",
              "    .colab-df-convert:hover {\n",
              "      background-color: #E2EBFA;\n",
              "      box-shadow: 0px 1px 2px rgba(60, 64, 67, 0.3), 0px 1px 3px 1px rgba(60, 64, 67, 0.15);\n",
              "      fill: #174EA6;\n",
              "    }\n",
              "\n",
              "    [theme=dark] .colab-df-convert {\n",
              "      background-color: #3B4455;\n",
              "      fill: #D2E3FC;\n",
              "    }\n",
              "\n",
              "    [theme=dark] .colab-df-convert:hover {\n",
              "      background-color: #434B5C;\n",
              "      box-shadow: 0px 1px 3px 1px rgba(0, 0, 0, 0.15);\n",
              "      filter: drop-shadow(0px 1px 2px rgba(0, 0, 0, 0.3));\n",
              "      fill: #FFFFFF;\n",
              "    }\n",
              "  </style>\n",
              "\n",
              "      <script>\n",
              "        const buttonEl =\n",
              "          document.querySelector('#df-ccf31293-7df0-451c-9cb3-2f8df3c3fdb4 button.colab-df-convert');\n",
              "        buttonEl.style.display =\n",
              "          google.colab.kernel.accessAllowed ? 'block' : 'none';\n",
              "\n",
              "        async function convertToInteractive(key) {\n",
              "          const element = document.querySelector('#df-ccf31293-7df0-451c-9cb3-2f8df3c3fdb4');\n",
              "          const dataTable =\n",
              "            await google.colab.kernel.invokeFunction('convertToInteractive',\n",
              "                                                     [key], {});\n",
              "          if (!dataTable) return;\n",
              "\n",
              "          const docLinkHtml = 'Like what you see? Visit the ' +\n",
              "            '<a target=\"_blank\" href=https://colab.research.google.com/notebooks/data_table.ipynb>data table notebook</a>'\n",
              "            + ' to learn more about interactive tables.';\n",
              "          element.innerHTML = '';\n",
              "          dataTable['output_type'] = 'display_data';\n",
              "          await google.colab.output.renderOutput(dataTable, element);\n",
              "          const docLink = document.createElement('div');\n",
              "          docLink.innerHTML = docLinkHtml;\n",
              "          element.appendChild(docLink);\n",
              "        }\n",
              "      </script>\n",
              "    </div>\n",
              "  </div>\n",
              "  "
            ]
          },
          "metadata": {},
          "execution_count": 36
        }
      ]
    },
    {
      "cell_type": "code",
      "source": [
        "df_train = df_train[df_train['Embarked'].notna()]\n",
        "df_test = df_test[df_test['Embarked'].notna()]"
      ],
      "metadata": {
        "id": "yrv4kRRW_uQ_"
      },
      "execution_count": null,
      "outputs": []
    },
    {
      "cell_type": "code",
      "source": [
        "df_train=df_train.drop(['Cabin','Name','Ticket','PassengerId'],axis = 1)\n",
        "df_test=df_test.drop(['Cabin','Name','Ticket','PassengerId'],axis = 1)"
      ],
      "metadata": {
        "id": "n9h2TWxn_3Ha"
      },
      "execution_count": null,
      "outputs": []
    },
    {
      "cell_type": "code",
      "source": [
        "from sklearn import preprocessing\n",
        "leSex = preprocessing.LabelEncoder()\n",
        "leSex.fit(df_train['Sex'].unique().tolist())\n",
        "leEmb = preprocessing.LabelEncoder()\n",
        "leEmb.fit(df_train['Embarked'].unique().tolist())"
      ],
      "metadata": {
        "colab": {
          "base_uri": "https://localhost:8080/"
        },
        "id": "kAsg0-Gc_5nz",
        "outputId": "22a9f6e9-ec1f-4e8e-d1ee-d462687f7f96"
      },
      "execution_count": null,
      "outputs": [
        {
          "output_type": "execute_result",
          "data": {
            "text/plain": [
              "LabelEncoder()"
            ]
          },
          "metadata": {},
          "execution_count": 39
        }
      ]
    },
    {
      "cell_type": "code",
      "source": [
        "leSex_1 = preprocessing.LabelEncoder()\n",
        "leSex_1.fit(df_test['Sex'].unique().tolist())\n",
        "leEmb_1 = preprocessing.LabelEncoder()\n",
        "leEmb_1.fit(df_test['Embarked'].unique().tolist())"
      ],
      "metadata": {
        "colab": {
          "base_uri": "https://localhost:8080/"
        },
        "id": "7tDuwZeUQzq4",
        "outputId": "1d976956-2ae1-4ec5-8acb-fa84ab8fb361"
      },
      "execution_count": null,
      "outputs": [
        {
          "output_type": "execute_result",
          "data": {
            "text/plain": [
              "LabelEncoder()"
            ]
          },
          "metadata": {},
          "execution_count": 40
        }
      ]
    },
    {
      "cell_type": "code",
      "source": [
        "df_train['Sex'] = leSex.transform(df_train['Sex'])\n",
        "df_train['Embarked'] = leEmb.transform(df_train['Embarked'])"
      ],
      "metadata": {
        "id": "mvVmwbnsSZjR"
      },
      "execution_count": null,
      "outputs": []
    },
    {
      "cell_type": "code",
      "source": [
        "df_test['Sex'] = leSex_1.transform(df_test['Sex'])\n",
        "df_test['Embarked'] = leEmb_1.transform(df_test['Embarked'])"
      ],
      "metadata": {
        "id": "RjBrAYvWABmN"
      },
      "execution_count": null,
      "outputs": []
    },
    {
      "cell_type": "code",
      "source": [
        "df_train['Age'].fillna(df_train['Age'].median(),inplace = True)\n",
        "df_test['Age'].fillna(df_test['Age'].median(),inplace = True)"
      ],
      "metadata": {
        "id": "Nj1W2JscA-eL"
      },
      "execution_count": null,
      "outputs": []
    },
    {
      "cell_type": "code",
      "source": [
        "df_train.head(2)"
      ],
      "metadata": {
        "colab": {
          "base_uri": "https://localhost:8080/",
          "height": 112
        },
        "id": "56UvghYnTFUf",
        "outputId": "155a4535-827a-473f-b36b-b4ee4d1bc1be"
      },
      "execution_count": null,
      "outputs": [
        {
          "output_type": "execute_result",
          "data": {
            "text/plain": [
              "   Survived  Pclass  Sex   Age  SibSp  Parch     Fare  Embarked\n",
              "0         0       3    1  22.0      1      0   7.2500         2\n",
              "1         1       1    0  38.0      1      0  71.2833         0"
            ],
            "text/html": [
              "\n",
              "  <div id=\"df-918c5bce-e63b-46ee-964b-fd00c2348476\">\n",
              "    <div class=\"colab-df-container\">\n",
              "      <div>\n",
              "<style scoped>\n",
              "    .dataframe tbody tr th:only-of-type {\n",
              "        vertical-align: middle;\n",
              "    }\n",
              "\n",
              "    .dataframe tbody tr th {\n",
              "        vertical-align: top;\n",
              "    }\n",
              "\n",
              "    .dataframe thead th {\n",
              "        text-align: right;\n",
              "    }\n",
              "</style>\n",
              "<table border=\"1\" class=\"dataframe\">\n",
              "  <thead>\n",
              "    <tr style=\"text-align: right;\">\n",
              "      <th></th>\n",
              "      <th>Survived</th>\n",
              "      <th>Pclass</th>\n",
              "      <th>Sex</th>\n",
              "      <th>Age</th>\n",
              "      <th>SibSp</th>\n",
              "      <th>Parch</th>\n",
              "      <th>Fare</th>\n",
              "      <th>Embarked</th>\n",
              "    </tr>\n",
              "  </thead>\n",
              "  <tbody>\n",
              "    <tr>\n",
              "      <th>0</th>\n",
              "      <td>0</td>\n",
              "      <td>3</td>\n",
              "      <td>1</td>\n",
              "      <td>22.0</td>\n",
              "      <td>1</td>\n",
              "      <td>0</td>\n",
              "      <td>7.2500</td>\n",
              "      <td>2</td>\n",
              "    </tr>\n",
              "    <tr>\n",
              "      <th>1</th>\n",
              "      <td>1</td>\n",
              "      <td>1</td>\n",
              "      <td>0</td>\n",
              "      <td>38.0</td>\n",
              "      <td>1</td>\n",
              "      <td>0</td>\n",
              "      <td>71.2833</td>\n",
              "      <td>0</td>\n",
              "    </tr>\n",
              "  </tbody>\n",
              "</table>\n",
              "</div>\n",
              "      <button class=\"colab-df-convert\" onclick=\"convertToInteractive('df-918c5bce-e63b-46ee-964b-fd00c2348476')\"\n",
              "              title=\"Convert this dataframe to an interactive table.\"\n",
              "              style=\"display:none;\">\n",
              "        \n",
              "  <svg xmlns=\"http://www.w3.org/2000/svg\" height=\"24px\"viewBox=\"0 0 24 24\"\n",
              "       width=\"24px\">\n",
              "    <path d=\"M0 0h24v24H0V0z\" fill=\"none\"/>\n",
              "    <path d=\"M18.56 5.44l.94 2.06.94-2.06 2.06-.94-2.06-.94-.94-2.06-.94 2.06-2.06.94zm-11 1L8.5 8.5l.94-2.06 2.06-.94-2.06-.94L8.5 2.5l-.94 2.06-2.06.94zm10 10l.94 2.06.94-2.06 2.06-.94-2.06-.94-.94-2.06-.94 2.06-2.06.94z\"/><path d=\"M17.41 7.96l-1.37-1.37c-.4-.4-.92-.59-1.43-.59-.52 0-1.04.2-1.43.59L10.3 9.45l-7.72 7.72c-.78.78-.78 2.05 0 2.83L4 21.41c.39.39.9.59 1.41.59.51 0 1.02-.2 1.41-.59l7.78-7.78 2.81-2.81c.8-.78.8-2.07 0-2.86zM5.41 20L4 18.59l7.72-7.72 1.47 1.35L5.41 20z\"/>\n",
              "  </svg>\n",
              "      </button>\n",
              "      \n",
              "  <style>\n",
              "    .colab-df-container {\n",
              "      display:flex;\n",
              "      flex-wrap:wrap;\n",
              "      gap: 12px;\n",
              "    }\n",
              "\n",
              "    .colab-df-convert {\n",
              "      background-color: #E8F0FE;\n",
              "      border: none;\n",
              "      border-radius: 50%;\n",
              "      cursor: pointer;\n",
              "      display: none;\n",
              "      fill: #1967D2;\n",
              "      height: 32px;\n",
              "      padding: 0 0 0 0;\n",
              "      width: 32px;\n",
              "    }\n",
              "\n",
              "    .colab-df-convert:hover {\n",
              "      background-color: #E2EBFA;\n",
              "      box-shadow: 0px 1px 2px rgba(60, 64, 67, 0.3), 0px 1px 3px 1px rgba(60, 64, 67, 0.15);\n",
              "      fill: #174EA6;\n",
              "    }\n",
              "\n",
              "    [theme=dark] .colab-df-convert {\n",
              "      background-color: #3B4455;\n",
              "      fill: #D2E3FC;\n",
              "    }\n",
              "\n",
              "    [theme=dark] .colab-df-convert:hover {\n",
              "      background-color: #434B5C;\n",
              "      box-shadow: 0px 1px 3px 1px rgba(0, 0, 0, 0.15);\n",
              "      filter: drop-shadow(0px 1px 2px rgba(0, 0, 0, 0.3));\n",
              "      fill: #FFFFFF;\n",
              "    }\n",
              "  </style>\n",
              "\n",
              "      <script>\n",
              "        const buttonEl =\n",
              "          document.querySelector('#df-918c5bce-e63b-46ee-964b-fd00c2348476 button.colab-df-convert');\n",
              "        buttonEl.style.display =\n",
              "          google.colab.kernel.accessAllowed ? 'block' : 'none';\n",
              "\n",
              "        async function convertToInteractive(key) {\n",
              "          const element = document.querySelector('#df-918c5bce-e63b-46ee-964b-fd00c2348476');\n",
              "          const dataTable =\n",
              "            await google.colab.kernel.invokeFunction('convertToInteractive',\n",
              "                                                     [key], {});\n",
              "          if (!dataTable) return;\n",
              "\n",
              "          const docLinkHtml = 'Like what you see? Visit the ' +\n",
              "            '<a target=\"_blank\" href=https://colab.research.google.com/notebooks/data_table.ipynb>data table notebook</a>'\n",
              "            + ' to learn more about interactive tables.';\n",
              "          element.innerHTML = '';\n",
              "          dataTable['output_type'] = 'display_data';\n",
              "          await google.colab.output.renderOutput(dataTable, element);\n",
              "          const docLink = document.createElement('div');\n",
              "          docLink.innerHTML = docLinkHtml;\n",
              "          element.appendChild(docLink);\n",
              "        }\n",
              "      </script>\n",
              "    </div>\n",
              "  </div>\n",
              "  "
            ]
          },
          "metadata": {},
          "execution_count": 44
        }
      ]
    },
    {
      "cell_type": "code",
      "source": [
        "df_test.head(2)"
      ],
      "metadata": {
        "colab": {
          "base_uri": "https://localhost:8080/",
          "height": 112
        },
        "id": "TKwFXO02TJEr",
        "outputId": "1fba6557-f6e5-4d7c-fed3-3138950e5621"
      },
      "execution_count": null,
      "outputs": [
        {
          "output_type": "execute_result",
          "data": {
            "text/plain": [
              "   Pclass  Sex   Age  SibSp  Parch    Fare  Embarked  Survived\n",
              "0       3    1  34.5      0      0  7.8292         1         0\n",
              "1       3    0  47.0      1      0  7.0000         2         1"
            ],
            "text/html": [
              "\n",
              "  <div id=\"df-e44d1e5d-9958-4f54-9240-df53f19ed4ad\">\n",
              "    <div class=\"colab-df-container\">\n",
              "      <div>\n",
              "<style scoped>\n",
              "    .dataframe tbody tr th:only-of-type {\n",
              "        vertical-align: middle;\n",
              "    }\n",
              "\n",
              "    .dataframe tbody tr th {\n",
              "        vertical-align: top;\n",
              "    }\n",
              "\n",
              "    .dataframe thead th {\n",
              "        text-align: right;\n",
              "    }\n",
              "</style>\n",
              "<table border=\"1\" class=\"dataframe\">\n",
              "  <thead>\n",
              "    <tr style=\"text-align: right;\">\n",
              "      <th></th>\n",
              "      <th>Pclass</th>\n",
              "      <th>Sex</th>\n",
              "      <th>Age</th>\n",
              "      <th>SibSp</th>\n",
              "      <th>Parch</th>\n",
              "      <th>Fare</th>\n",
              "      <th>Embarked</th>\n",
              "      <th>Survived</th>\n",
              "    </tr>\n",
              "  </thead>\n",
              "  <tbody>\n",
              "    <tr>\n",
              "      <th>0</th>\n",
              "      <td>3</td>\n",
              "      <td>1</td>\n",
              "      <td>34.5</td>\n",
              "      <td>0</td>\n",
              "      <td>0</td>\n",
              "      <td>7.8292</td>\n",
              "      <td>1</td>\n",
              "      <td>0</td>\n",
              "    </tr>\n",
              "    <tr>\n",
              "      <th>1</th>\n",
              "      <td>3</td>\n",
              "      <td>0</td>\n",
              "      <td>47.0</td>\n",
              "      <td>1</td>\n",
              "      <td>0</td>\n",
              "      <td>7.0000</td>\n",
              "      <td>2</td>\n",
              "      <td>1</td>\n",
              "    </tr>\n",
              "  </tbody>\n",
              "</table>\n",
              "</div>\n",
              "      <button class=\"colab-df-convert\" onclick=\"convertToInteractive('df-e44d1e5d-9958-4f54-9240-df53f19ed4ad')\"\n",
              "              title=\"Convert this dataframe to an interactive table.\"\n",
              "              style=\"display:none;\">\n",
              "        \n",
              "  <svg xmlns=\"http://www.w3.org/2000/svg\" height=\"24px\"viewBox=\"0 0 24 24\"\n",
              "       width=\"24px\">\n",
              "    <path d=\"M0 0h24v24H0V0z\" fill=\"none\"/>\n",
              "    <path d=\"M18.56 5.44l.94 2.06.94-2.06 2.06-.94-2.06-.94-.94-2.06-.94 2.06-2.06.94zm-11 1L8.5 8.5l.94-2.06 2.06-.94-2.06-.94L8.5 2.5l-.94 2.06-2.06.94zm10 10l.94 2.06.94-2.06 2.06-.94-2.06-.94-.94-2.06-.94 2.06-2.06.94z\"/><path d=\"M17.41 7.96l-1.37-1.37c-.4-.4-.92-.59-1.43-.59-.52 0-1.04.2-1.43.59L10.3 9.45l-7.72 7.72c-.78.78-.78 2.05 0 2.83L4 21.41c.39.39.9.59 1.41.59.51 0 1.02-.2 1.41-.59l7.78-7.78 2.81-2.81c.8-.78.8-2.07 0-2.86zM5.41 20L4 18.59l7.72-7.72 1.47 1.35L5.41 20z\"/>\n",
              "  </svg>\n",
              "      </button>\n",
              "      \n",
              "  <style>\n",
              "    .colab-df-container {\n",
              "      display:flex;\n",
              "      flex-wrap:wrap;\n",
              "      gap: 12px;\n",
              "    }\n",
              "\n",
              "    .colab-df-convert {\n",
              "      background-color: #E8F0FE;\n",
              "      border: none;\n",
              "      border-radius: 50%;\n",
              "      cursor: pointer;\n",
              "      display: none;\n",
              "      fill: #1967D2;\n",
              "      height: 32px;\n",
              "      padding: 0 0 0 0;\n",
              "      width: 32px;\n",
              "    }\n",
              "\n",
              "    .colab-df-convert:hover {\n",
              "      background-color: #E2EBFA;\n",
              "      box-shadow: 0px 1px 2px rgba(60, 64, 67, 0.3), 0px 1px 3px 1px rgba(60, 64, 67, 0.15);\n",
              "      fill: #174EA6;\n",
              "    }\n",
              "\n",
              "    [theme=dark] .colab-df-convert {\n",
              "      background-color: #3B4455;\n",
              "      fill: #D2E3FC;\n",
              "    }\n",
              "\n",
              "    [theme=dark] .colab-df-convert:hover {\n",
              "      background-color: #434B5C;\n",
              "      box-shadow: 0px 1px 3px 1px rgba(0, 0, 0, 0.15);\n",
              "      filter: drop-shadow(0px 1px 2px rgba(0, 0, 0, 0.3));\n",
              "      fill: #FFFFFF;\n",
              "    }\n",
              "  </style>\n",
              "\n",
              "      <script>\n",
              "        const buttonEl =\n",
              "          document.querySelector('#df-e44d1e5d-9958-4f54-9240-df53f19ed4ad button.colab-df-convert');\n",
              "        buttonEl.style.display =\n",
              "          google.colab.kernel.accessAllowed ? 'block' : 'none';\n",
              "\n",
              "        async function convertToInteractive(key) {\n",
              "          const element = document.querySelector('#df-e44d1e5d-9958-4f54-9240-df53f19ed4ad');\n",
              "          const dataTable =\n",
              "            await google.colab.kernel.invokeFunction('convertToInteractive',\n",
              "                                                     [key], {});\n",
              "          if (!dataTable) return;\n",
              "\n",
              "          const docLinkHtml = 'Like what you see? Visit the ' +\n",
              "            '<a target=\"_blank\" href=https://colab.research.google.com/notebooks/data_table.ipynb>data table notebook</a>'\n",
              "            + ' to learn more about interactive tables.';\n",
              "          element.innerHTML = '';\n",
              "          dataTable['output_type'] = 'display_data';\n",
              "          await google.colab.output.renderOutput(dataTable, element);\n",
              "          const docLink = document.createElement('div');\n",
              "          docLink.innerHTML = docLinkHtml;\n",
              "          element.appendChild(docLink);\n",
              "        }\n",
              "      </script>\n",
              "    </div>\n",
              "  </div>\n",
              "  "
            ]
          },
          "metadata": {},
          "execution_count": 45
        }
      ]
    },
    {
      "cell_type": "code",
      "source": [
        "df_test = df_test.dropna()"
      ],
      "metadata": {
        "id": "1GZxrX2n9LHY"
      },
      "execution_count": null,
      "outputs": []
    },
    {
      "cell_type": "code",
      "source": [
        "from sklearn.model_selection import train_test_split\n",
        "\n",
        "X_train = df_train.drop(['Survived'], axis = 1) # Removed feature \"sepal length\"\n",
        "y_train = df_train['Survived']   \n",
        "\n",
        "X_test = df_test.drop(['Survived'], axis = 1) \n",
        "y_test = df_test['Survived']    \n",
        "\n",
        "#X_test = df_test\n",
        "                             \n",
        "# Split dataset into training set and test set\n",
        "#X_train, X_test, y_train, y_test = train_test_split(X, y, test_size=0.70, random_state=5)"
      ],
      "metadata": {
        "id": "HwM_OKRWaJ4L"
      },
      "execution_count": null,
      "outputs": []
    },
    {
      "cell_type": "code",
      "source": [
        "X_train"
      ],
      "metadata": {
        "colab": {
          "base_uri": "https://localhost:8080/",
          "height": 423
        },
        "id": "VN4J1u_tP93e",
        "outputId": "0848c0d9-7ddc-40df-cbed-b9ea3bdfb86d"
      },
      "execution_count": null,
      "outputs": [
        {
          "output_type": "execute_result",
          "data": {
            "text/plain": [
              "     Pclass  Sex   Age  SibSp  Parch     Fare  Embarked\n",
              "0         3    1  22.0      1      0   7.2500         2\n",
              "1         1    0  38.0      1      0  71.2833         0\n",
              "2         3    0  26.0      0      0   7.9250         2\n",
              "3         1    0  35.0      1      0  53.1000         2\n",
              "4         3    1  35.0      0      0   8.0500         2\n",
              "..      ...  ...   ...    ...    ...      ...       ...\n",
              "886       2    1  27.0      0      0  13.0000         2\n",
              "887       1    0  19.0      0      0  30.0000         2\n",
              "888       3    0  28.0      1      2  23.4500         2\n",
              "889       1    1  26.0      0      0  30.0000         0\n",
              "890       3    1  32.0      0      0   7.7500         1\n",
              "\n",
              "[889 rows x 7 columns]"
            ],
            "text/html": [
              "\n",
              "  <div id=\"df-9c18f46b-a287-47b2-a2a6-f0c68fbd113a\">\n",
              "    <div class=\"colab-df-container\">\n",
              "      <div>\n",
              "<style scoped>\n",
              "    .dataframe tbody tr th:only-of-type {\n",
              "        vertical-align: middle;\n",
              "    }\n",
              "\n",
              "    .dataframe tbody tr th {\n",
              "        vertical-align: top;\n",
              "    }\n",
              "\n",
              "    .dataframe thead th {\n",
              "        text-align: right;\n",
              "    }\n",
              "</style>\n",
              "<table border=\"1\" class=\"dataframe\">\n",
              "  <thead>\n",
              "    <tr style=\"text-align: right;\">\n",
              "      <th></th>\n",
              "      <th>Pclass</th>\n",
              "      <th>Sex</th>\n",
              "      <th>Age</th>\n",
              "      <th>SibSp</th>\n",
              "      <th>Parch</th>\n",
              "      <th>Fare</th>\n",
              "      <th>Embarked</th>\n",
              "    </tr>\n",
              "  </thead>\n",
              "  <tbody>\n",
              "    <tr>\n",
              "      <th>0</th>\n",
              "      <td>3</td>\n",
              "      <td>1</td>\n",
              "      <td>22.0</td>\n",
              "      <td>1</td>\n",
              "      <td>0</td>\n",
              "      <td>7.2500</td>\n",
              "      <td>2</td>\n",
              "    </tr>\n",
              "    <tr>\n",
              "      <th>1</th>\n",
              "      <td>1</td>\n",
              "      <td>0</td>\n",
              "      <td>38.0</td>\n",
              "      <td>1</td>\n",
              "      <td>0</td>\n",
              "      <td>71.2833</td>\n",
              "      <td>0</td>\n",
              "    </tr>\n",
              "    <tr>\n",
              "      <th>2</th>\n",
              "      <td>3</td>\n",
              "      <td>0</td>\n",
              "      <td>26.0</td>\n",
              "      <td>0</td>\n",
              "      <td>0</td>\n",
              "      <td>7.9250</td>\n",
              "      <td>2</td>\n",
              "    </tr>\n",
              "    <tr>\n",
              "      <th>3</th>\n",
              "      <td>1</td>\n",
              "      <td>0</td>\n",
              "      <td>35.0</td>\n",
              "      <td>1</td>\n",
              "      <td>0</td>\n",
              "      <td>53.1000</td>\n",
              "      <td>2</td>\n",
              "    </tr>\n",
              "    <tr>\n",
              "      <th>4</th>\n",
              "      <td>3</td>\n",
              "      <td>1</td>\n",
              "      <td>35.0</td>\n",
              "      <td>0</td>\n",
              "      <td>0</td>\n",
              "      <td>8.0500</td>\n",
              "      <td>2</td>\n",
              "    </tr>\n",
              "    <tr>\n",
              "      <th>...</th>\n",
              "      <td>...</td>\n",
              "      <td>...</td>\n",
              "      <td>...</td>\n",
              "      <td>...</td>\n",
              "      <td>...</td>\n",
              "      <td>...</td>\n",
              "      <td>...</td>\n",
              "    </tr>\n",
              "    <tr>\n",
              "      <th>886</th>\n",
              "      <td>2</td>\n",
              "      <td>1</td>\n",
              "      <td>27.0</td>\n",
              "      <td>0</td>\n",
              "      <td>0</td>\n",
              "      <td>13.0000</td>\n",
              "      <td>2</td>\n",
              "    </tr>\n",
              "    <tr>\n",
              "      <th>887</th>\n",
              "      <td>1</td>\n",
              "      <td>0</td>\n",
              "      <td>19.0</td>\n",
              "      <td>0</td>\n",
              "      <td>0</td>\n",
              "      <td>30.0000</td>\n",
              "      <td>2</td>\n",
              "    </tr>\n",
              "    <tr>\n",
              "      <th>888</th>\n",
              "      <td>3</td>\n",
              "      <td>0</td>\n",
              "      <td>28.0</td>\n",
              "      <td>1</td>\n",
              "      <td>2</td>\n",
              "      <td>23.4500</td>\n",
              "      <td>2</td>\n",
              "    </tr>\n",
              "    <tr>\n",
              "      <th>889</th>\n",
              "      <td>1</td>\n",
              "      <td>1</td>\n",
              "      <td>26.0</td>\n",
              "      <td>0</td>\n",
              "      <td>0</td>\n",
              "      <td>30.0000</td>\n",
              "      <td>0</td>\n",
              "    </tr>\n",
              "    <tr>\n",
              "      <th>890</th>\n",
              "      <td>3</td>\n",
              "      <td>1</td>\n",
              "      <td>32.0</td>\n",
              "      <td>0</td>\n",
              "      <td>0</td>\n",
              "      <td>7.7500</td>\n",
              "      <td>1</td>\n",
              "    </tr>\n",
              "  </tbody>\n",
              "</table>\n",
              "<p>889 rows × 7 columns</p>\n",
              "</div>\n",
              "      <button class=\"colab-df-convert\" onclick=\"convertToInteractive('df-9c18f46b-a287-47b2-a2a6-f0c68fbd113a')\"\n",
              "              title=\"Convert this dataframe to an interactive table.\"\n",
              "              style=\"display:none;\">\n",
              "        \n",
              "  <svg xmlns=\"http://www.w3.org/2000/svg\" height=\"24px\"viewBox=\"0 0 24 24\"\n",
              "       width=\"24px\">\n",
              "    <path d=\"M0 0h24v24H0V0z\" fill=\"none\"/>\n",
              "    <path d=\"M18.56 5.44l.94 2.06.94-2.06 2.06-.94-2.06-.94-.94-2.06-.94 2.06-2.06.94zm-11 1L8.5 8.5l.94-2.06 2.06-.94-2.06-.94L8.5 2.5l-.94 2.06-2.06.94zm10 10l.94 2.06.94-2.06 2.06-.94-2.06-.94-.94-2.06-.94 2.06-2.06.94z\"/><path d=\"M17.41 7.96l-1.37-1.37c-.4-.4-.92-.59-1.43-.59-.52 0-1.04.2-1.43.59L10.3 9.45l-7.72 7.72c-.78.78-.78 2.05 0 2.83L4 21.41c.39.39.9.59 1.41.59.51 0 1.02-.2 1.41-.59l7.78-7.78 2.81-2.81c.8-.78.8-2.07 0-2.86zM5.41 20L4 18.59l7.72-7.72 1.47 1.35L5.41 20z\"/>\n",
              "  </svg>\n",
              "      </button>\n",
              "      \n",
              "  <style>\n",
              "    .colab-df-container {\n",
              "      display:flex;\n",
              "      flex-wrap:wrap;\n",
              "      gap: 12px;\n",
              "    }\n",
              "\n",
              "    .colab-df-convert {\n",
              "      background-color: #E8F0FE;\n",
              "      border: none;\n",
              "      border-radius: 50%;\n",
              "      cursor: pointer;\n",
              "      display: none;\n",
              "      fill: #1967D2;\n",
              "      height: 32px;\n",
              "      padding: 0 0 0 0;\n",
              "      width: 32px;\n",
              "    }\n",
              "\n",
              "    .colab-df-convert:hover {\n",
              "      background-color: #E2EBFA;\n",
              "      box-shadow: 0px 1px 2px rgba(60, 64, 67, 0.3), 0px 1px 3px 1px rgba(60, 64, 67, 0.15);\n",
              "      fill: #174EA6;\n",
              "    }\n",
              "\n",
              "    [theme=dark] .colab-df-convert {\n",
              "      background-color: #3B4455;\n",
              "      fill: #D2E3FC;\n",
              "    }\n",
              "\n",
              "    [theme=dark] .colab-df-convert:hover {\n",
              "      background-color: #434B5C;\n",
              "      box-shadow: 0px 1px 3px 1px rgba(0, 0, 0, 0.15);\n",
              "      filter: drop-shadow(0px 1px 2px rgba(0, 0, 0, 0.3));\n",
              "      fill: #FFFFFF;\n",
              "    }\n",
              "  </style>\n",
              "\n",
              "      <script>\n",
              "        const buttonEl =\n",
              "          document.querySelector('#df-9c18f46b-a287-47b2-a2a6-f0c68fbd113a button.colab-df-convert');\n",
              "        buttonEl.style.display =\n",
              "          google.colab.kernel.accessAllowed ? 'block' : 'none';\n",
              "\n",
              "        async function convertToInteractive(key) {\n",
              "          const element = document.querySelector('#df-9c18f46b-a287-47b2-a2a6-f0c68fbd113a');\n",
              "          const dataTable =\n",
              "            await google.colab.kernel.invokeFunction('convertToInteractive',\n",
              "                                                     [key], {});\n",
              "          if (!dataTable) return;\n",
              "\n",
              "          const docLinkHtml = 'Like what you see? Visit the ' +\n",
              "            '<a target=\"_blank\" href=https://colab.research.google.com/notebooks/data_table.ipynb>data table notebook</a>'\n",
              "            + ' to learn more about interactive tables.';\n",
              "          element.innerHTML = '';\n",
              "          dataTable['output_type'] = 'display_data';\n",
              "          await google.colab.output.renderOutput(dataTable, element);\n",
              "          const docLink = document.createElement('div');\n",
              "          docLink.innerHTML = docLinkHtml;\n",
              "          element.appendChild(docLink);\n",
              "        }\n",
              "      </script>\n",
              "    </div>\n",
              "  </div>\n",
              "  "
            ]
          },
          "metadata": {},
          "execution_count": 48
        }
      ]
    },
    {
      "cell_type": "code",
      "source": [
        "X_test"
      ],
      "metadata": {
        "colab": {
          "base_uri": "https://localhost:8080/",
          "height": 423
        },
        "id": "19lzm9jTQBSO",
        "outputId": "2880e35a-9325-4902-8f24-2928044157e3"
      },
      "execution_count": null,
      "outputs": [
        {
          "output_type": "execute_result",
          "data": {
            "text/plain": [
              "     Pclass  Sex   Age  SibSp  Parch      Fare  Embarked\n",
              "0         3    1  34.5      0      0    7.8292         1\n",
              "1         3    0  47.0      1      0    7.0000         2\n",
              "2         2    1  62.0      0      0    9.6875         1\n",
              "3         3    1  27.0      0      0    8.6625         2\n",
              "4         3    0  22.0      1      1   12.2875         2\n",
              "..      ...  ...   ...    ...    ...       ...       ...\n",
              "413       3    1  27.0      0      0    8.0500         2\n",
              "414       1    0  39.0      0      0  108.9000         0\n",
              "415       3    1  38.5      0      0    7.2500         2\n",
              "416       3    1  27.0      0      0    8.0500         2\n",
              "417       3    1  27.0      1      1   22.3583         0\n",
              "\n",
              "[417 rows x 7 columns]"
            ],
            "text/html": [
              "\n",
              "  <div id=\"df-1be25207-d1e7-4326-a5ac-4070682908e1\">\n",
              "    <div class=\"colab-df-container\">\n",
              "      <div>\n",
              "<style scoped>\n",
              "    .dataframe tbody tr th:only-of-type {\n",
              "        vertical-align: middle;\n",
              "    }\n",
              "\n",
              "    .dataframe tbody tr th {\n",
              "        vertical-align: top;\n",
              "    }\n",
              "\n",
              "    .dataframe thead th {\n",
              "        text-align: right;\n",
              "    }\n",
              "</style>\n",
              "<table border=\"1\" class=\"dataframe\">\n",
              "  <thead>\n",
              "    <tr style=\"text-align: right;\">\n",
              "      <th></th>\n",
              "      <th>Pclass</th>\n",
              "      <th>Sex</th>\n",
              "      <th>Age</th>\n",
              "      <th>SibSp</th>\n",
              "      <th>Parch</th>\n",
              "      <th>Fare</th>\n",
              "      <th>Embarked</th>\n",
              "    </tr>\n",
              "  </thead>\n",
              "  <tbody>\n",
              "    <tr>\n",
              "      <th>0</th>\n",
              "      <td>3</td>\n",
              "      <td>1</td>\n",
              "      <td>34.5</td>\n",
              "      <td>0</td>\n",
              "      <td>0</td>\n",
              "      <td>7.8292</td>\n",
              "      <td>1</td>\n",
              "    </tr>\n",
              "    <tr>\n",
              "      <th>1</th>\n",
              "      <td>3</td>\n",
              "      <td>0</td>\n",
              "      <td>47.0</td>\n",
              "      <td>1</td>\n",
              "      <td>0</td>\n",
              "      <td>7.0000</td>\n",
              "      <td>2</td>\n",
              "    </tr>\n",
              "    <tr>\n",
              "      <th>2</th>\n",
              "      <td>2</td>\n",
              "      <td>1</td>\n",
              "      <td>62.0</td>\n",
              "      <td>0</td>\n",
              "      <td>0</td>\n",
              "      <td>9.6875</td>\n",
              "      <td>1</td>\n",
              "    </tr>\n",
              "    <tr>\n",
              "      <th>3</th>\n",
              "      <td>3</td>\n",
              "      <td>1</td>\n",
              "      <td>27.0</td>\n",
              "      <td>0</td>\n",
              "      <td>0</td>\n",
              "      <td>8.6625</td>\n",
              "      <td>2</td>\n",
              "    </tr>\n",
              "    <tr>\n",
              "      <th>4</th>\n",
              "      <td>3</td>\n",
              "      <td>0</td>\n",
              "      <td>22.0</td>\n",
              "      <td>1</td>\n",
              "      <td>1</td>\n",
              "      <td>12.2875</td>\n",
              "      <td>2</td>\n",
              "    </tr>\n",
              "    <tr>\n",
              "      <th>...</th>\n",
              "      <td>...</td>\n",
              "      <td>...</td>\n",
              "      <td>...</td>\n",
              "      <td>...</td>\n",
              "      <td>...</td>\n",
              "      <td>...</td>\n",
              "      <td>...</td>\n",
              "    </tr>\n",
              "    <tr>\n",
              "      <th>413</th>\n",
              "      <td>3</td>\n",
              "      <td>1</td>\n",
              "      <td>27.0</td>\n",
              "      <td>0</td>\n",
              "      <td>0</td>\n",
              "      <td>8.0500</td>\n",
              "      <td>2</td>\n",
              "    </tr>\n",
              "    <tr>\n",
              "      <th>414</th>\n",
              "      <td>1</td>\n",
              "      <td>0</td>\n",
              "      <td>39.0</td>\n",
              "      <td>0</td>\n",
              "      <td>0</td>\n",
              "      <td>108.9000</td>\n",
              "      <td>0</td>\n",
              "    </tr>\n",
              "    <tr>\n",
              "      <th>415</th>\n",
              "      <td>3</td>\n",
              "      <td>1</td>\n",
              "      <td>38.5</td>\n",
              "      <td>0</td>\n",
              "      <td>0</td>\n",
              "      <td>7.2500</td>\n",
              "      <td>2</td>\n",
              "    </tr>\n",
              "    <tr>\n",
              "      <th>416</th>\n",
              "      <td>3</td>\n",
              "      <td>1</td>\n",
              "      <td>27.0</td>\n",
              "      <td>0</td>\n",
              "      <td>0</td>\n",
              "      <td>8.0500</td>\n",
              "      <td>2</td>\n",
              "    </tr>\n",
              "    <tr>\n",
              "      <th>417</th>\n",
              "      <td>3</td>\n",
              "      <td>1</td>\n",
              "      <td>27.0</td>\n",
              "      <td>1</td>\n",
              "      <td>1</td>\n",
              "      <td>22.3583</td>\n",
              "      <td>0</td>\n",
              "    </tr>\n",
              "  </tbody>\n",
              "</table>\n",
              "<p>417 rows × 7 columns</p>\n",
              "</div>\n",
              "      <button class=\"colab-df-convert\" onclick=\"convertToInteractive('df-1be25207-d1e7-4326-a5ac-4070682908e1')\"\n",
              "              title=\"Convert this dataframe to an interactive table.\"\n",
              "              style=\"display:none;\">\n",
              "        \n",
              "  <svg xmlns=\"http://www.w3.org/2000/svg\" height=\"24px\"viewBox=\"0 0 24 24\"\n",
              "       width=\"24px\">\n",
              "    <path d=\"M0 0h24v24H0V0z\" fill=\"none\"/>\n",
              "    <path d=\"M18.56 5.44l.94 2.06.94-2.06 2.06-.94-2.06-.94-.94-2.06-.94 2.06-2.06.94zm-11 1L8.5 8.5l.94-2.06 2.06-.94-2.06-.94L8.5 2.5l-.94 2.06-2.06.94zm10 10l.94 2.06.94-2.06 2.06-.94-2.06-.94-.94-2.06-.94 2.06-2.06.94z\"/><path d=\"M17.41 7.96l-1.37-1.37c-.4-.4-.92-.59-1.43-.59-.52 0-1.04.2-1.43.59L10.3 9.45l-7.72 7.72c-.78.78-.78 2.05 0 2.83L4 21.41c.39.39.9.59 1.41.59.51 0 1.02-.2 1.41-.59l7.78-7.78 2.81-2.81c.8-.78.8-2.07 0-2.86zM5.41 20L4 18.59l7.72-7.72 1.47 1.35L5.41 20z\"/>\n",
              "  </svg>\n",
              "      </button>\n",
              "      \n",
              "  <style>\n",
              "    .colab-df-container {\n",
              "      display:flex;\n",
              "      flex-wrap:wrap;\n",
              "      gap: 12px;\n",
              "    }\n",
              "\n",
              "    .colab-df-convert {\n",
              "      background-color: #E8F0FE;\n",
              "      border: none;\n",
              "      border-radius: 50%;\n",
              "      cursor: pointer;\n",
              "      display: none;\n",
              "      fill: #1967D2;\n",
              "      height: 32px;\n",
              "      padding: 0 0 0 0;\n",
              "      width: 32px;\n",
              "    }\n",
              "\n",
              "    .colab-df-convert:hover {\n",
              "      background-color: #E2EBFA;\n",
              "      box-shadow: 0px 1px 2px rgba(60, 64, 67, 0.3), 0px 1px 3px 1px rgba(60, 64, 67, 0.15);\n",
              "      fill: #174EA6;\n",
              "    }\n",
              "\n",
              "    [theme=dark] .colab-df-convert {\n",
              "      background-color: #3B4455;\n",
              "      fill: #D2E3FC;\n",
              "    }\n",
              "\n",
              "    [theme=dark] .colab-df-convert:hover {\n",
              "      background-color: #434B5C;\n",
              "      box-shadow: 0px 1px 3px 1px rgba(0, 0, 0, 0.15);\n",
              "      filter: drop-shadow(0px 1px 2px rgba(0, 0, 0, 0.3));\n",
              "      fill: #FFFFFF;\n",
              "    }\n",
              "  </style>\n",
              "\n",
              "      <script>\n",
              "        const buttonEl =\n",
              "          document.querySelector('#df-1be25207-d1e7-4326-a5ac-4070682908e1 button.colab-df-convert');\n",
              "        buttonEl.style.display =\n",
              "          google.colab.kernel.accessAllowed ? 'block' : 'none';\n",
              "\n",
              "        async function convertToInteractive(key) {\n",
              "          const element = document.querySelector('#df-1be25207-d1e7-4326-a5ac-4070682908e1');\n",
              "          const dataTable =\n",
              "            await google.colab.kernel.invokeFunction('convertToInteractive',\n",
              "                                                     [key], {});\n",
              "          if (!dataTable) return;\n",
              "\n",
              "          const docLinkHtml = 'Like what you see? Visit the ' +\n",
              "            '<a target=\"_blank\" href=https://colab.research.google.com/notebooks/data_table.ipynb>data table notebook</a>'\n",
              "            + ' to learn more about interactive tables.';\n",
              "          element.innerHTML = '';\n",
              "          dataTable['output_type'] = 'display_data';\n",
              "          await google.colab.output.renderOutput(dataTable, element);\n",
              "          const docLink = document.createElement('div');\n",
              "          docLink.innerHTML = docLinkHtml;\n",
              "          element.appendChild(docLink);\n",
              "        }\n",
              "      </script>\n",
              "    </div>\n",
              "  </div>\n",
              "  "
            ]
          },
          "metadata": {},
          "execution_count": 49
        }
      ]
    },
    {
      "cell_type": "code",
      "source": [
        "y_train"
      ],
      "metadata": {
        "colab": {
          "base_uri": "https://localhost:8080/"
        },
        "id": "WMzwdU0CQE1B",
        "outputId": "823fd2d1-a866-42b0-dbab-394f179c28eb"
      },
      "execution_count": null,
      "outputs": [
        {
          "output_type": "execute_result",
          "data": {
            "text/plain": [
              "0      0\n",
              "1      1\n",
              "2      1\n",
              "3      1\n",
              "4      0\n",
              "      ..\n",
              "886    0\n",
              "887    1\n",
              "888    0\n",
              "889    1\n",
              "890    0\n",
              "Name: Survived, Length: 889, dtype: int64"
            ]
          },
          "metadata": {},
          "execution_count": 50
        }
      ]
    },
    {
      "cell_type": "code",
      "source": [
        "y_test"
      ],
      "metadata": {
        "colab": {
          "base_uri": "https://localhost:8080/"
        },
        "id": "NqPsHkm_QG1B",
        "outputId": "5ce42ade-49cb-4e78-9e9f-063ff48a7037"
      },
      "execution_count": null,
      "outputs": [
        {
          "output_type": "execute_result",
          "data": {
            "text/plain": [
              "0      0\n",
              "1      1\n",
              "2      0\n",
              "3      0\n",
              "4      1\n",
              "      ..\n",
              "413    0\n",
              "414    1\n",
              "415    0\n",
              "416    0\n",
              "417    0\n",
              "Name: Survived, Length: 417, dtype: int64"
            ]
          },
          "metadata": {},
          "execution_count": 51
        }
      ]
    },
    {
      "cell_type": "markdown",
      "source": [
        "Decision Tree"
      ],
      "metadata": {
        "id": "3-zHgP6Nbe94"
      }
    },
    {
      "cell_type": "code",
      "source": [
        "from sklearn.tree import DecisionTreeClassifier\n",
        "from sklearn.model_selection import cross_val_score\n",
        "import numpy as np\n",
        "import matplotlib.pyplot as plt\n",
        "\n",
        "# function for fitting trees of various depths on the training data using cross-validation\n",
        "def run_cross_validation_on_trees(X, y, tree_depths, cv=5, scoring='accuracy'):\n",
        "    cv_scores_list = []\n",
        "    cv_scores_std = []\n",
        "    cv_scores_mean = []\n",
        "    accuracy_scores = []\n",
        "    for depth in tree_depths:\n",
        "        tree_model = DecisionTreeClassifier(max_depth=depth)\n",
        "        cv_scores = cross_val_score(tree_model, X, y, cv=cv, scoring=scoring)\n",
        "        cv_scores_list.append(cv_scores)\n",
        "        cv_scores_mean.append(cv_scores.mean())\n",
        "        cv_scores_std.append(cv_scores.std())\n",
        "        accuracy_scores.append(tree_model.fit(X, y).score(X, y))\n",
        "    cv_scores_mean = np.array(cv_scores_mean)\n",
        "    cv_scores_std = np.array(cv_scores_std)\n",
        "    accuracy_scores = np.array(accuracy_scores)\n",
        "    return cv_scores_mean, cv_scores_std, accuracy_scores\n",
        "  \n",
        "# function for plotting cross-validation results\n",
        "def plot_cross_validation_on_trees(depths, cv_scores_mean, cv_scores_std, accuracy_scores, title):\n",
        "    fig, ax = plt.subplots(1,1, figsize=(15,5))\n",
        "    ax.plot(depths, cv_scores_mean, '-o', label='mean cross-validation accuracy', alpha=0.9)\n",
        "    ax.fill_between(depths, cv_scores_mean-2*cv_scores_std, cv_scores_mean+2*cv_scores_std, alpha=0.2)\n",
        "    ylim = plt.ylim()\n",
        "    ax.plot(depths, accuracy_scores, '-*', label='train accuracy', alpha=0.9)\n",
        "    ax.set_title(title, fontsize=16)\n",
        "    ax.set_xlabel('Tree depth', fontsize=14)\n",
        "    ax.set_ylabel('Accuracy', fontsize=14)\n",
        "    ax.set_ylim(ylim)\n",
        "    ax.set_xticks(depths)\n",
        "    ax.legend()\n",
        "\n",
        "# fitting trees of depth 1 to 24\n",
        "sm_tree_depths = range(1,25)\n",
        "sm_cv_scores_mean, sm_cv_scores_std, sm_accuracy_scores = run_cross_validation_on_trees(X_train, y_train, sm_tree_depths)\n",
        "\n",
        "# plotting accuracy\n",
        "plot_cross_validation_on_trees(sm_tree_depths, sm_cv_scores_mean, sm_cv_scores_std, sm_accuracy_scores, \n",
        "                               'Accuracy per decision tree depth on training data')\n",
        "\n"
      ],
      "metadata": {
        "colab": {
          "base_uri": "https://localhost:8080/",
          "height": 356
        },
        "id": "uV59g3BO-rw3",
        "outputId": "08c77cbe-97f8-4dda-a683-844e4c55695e"
      },
      "execution_count": null,
      "outputs": [
        {
          "output_type": "display_data",
          "data": {
            "text/plain": [
              "<Figure size 1080x360 with 1 Axes>"
            ],
            "image/png": "[encoded data removed]"
          },
          "metadata": {
            "needs_background": "light"
          }
        }
      ]
    },
    {
      "cell_type": "code",
      "source": [
        "from sklearn.tree import DecisionTreeClassifier\n",
        "\n",
        "from sklearn import tree\n",
        "\n",
        "start_time = datetime.now()\n",
        "clf = DecisionTreeClassifier(max_depth = 5,random_state=0)\n",
        "clf.fit(X_train, y_train)\n",
        "y_pred=clf.predict(X_test)\n",
        "#Import scikit-learn metrics module for accuracy calculation\n",
        "from sklearn import metrics\n",
        "\n",
        "\n",
        "# Model Accuracy, how often is the classifier correct?\n",
        "print(\"Accuracy:\",metrics.accuracy_score(y_test, y_pred))\n",
        "\n",
        "end_time = datetime.now()\n",
        "\n",
        "tiempo = end_time-start_time\n",
        "\n",
        "\n",
        "print(tiempo)"
      ],
      "metadata": {
        "colab": {
          "base_uri": "https://localhost:8080/"
        },
        "id": "241BHDRsQgeA",
        "outputId": "4a052fb2-ed45-4c39-aee3-321454666a42"
      },
      "execution_count": null,
      "outputs": [
        {
          "output_type": "stream",
          "name": "stdout",
          "text": [
            "Accuracy: 0.9568345323741008\n",
            "0:00:00.010869\n"
          ]
        }
      ]
    },
    {
      "cell_type": "code",
      "source": [
        "len(y_test)"
      ],
      "metadata": {
        "colab": {
          "base_uri": "https://localhost:8080/"
        },
        "id": "jRhaxpGKXSfZ",
        "outputId": "e3a7d0ec-440a-49f3-df35-e66b825554e1"
      },
      "execution_count": null,
      "outputs": [
        {
          "output_type": "execute_result",
          "data": {
            "text/plain": [
              "417"
            ]
          },
          "metadata": {},
          "execution_count": 92
        }
      ]
    },
    {
      "cell_type": "code",
      "source": [
        "type(y_test)"
      ],
      "metadata": {
        "colab": {
          "base_uri": "https://localhost:8080/"
        },
        "id": "K_9D218dZrV1",
        "outputId": "84e14959-f932-46b1-bd2e-db2ecb0c7a61"
      },
      "execution_count": null,
      "outputs": [
        {
          "output_type": "execute_result",
          "data": {
            "text/plain": [
              "pandas.core.series.Series"
            ]
          },
          "metadata": {},
          "execution_count": 93
        }
      ]
    },
    {
      "cell_type": "code",
      "source": [
        "y_test_1 = y_test.to_list()"
      ],
      "metadata": {
        "id": "SylAVYSaZxlh"
      },
      "execution_count": null,
      "outputs": []
    },
    {
      "cell_type": "code",
      "source": [
        "for i in range(len(y_pred)):\n",
        "  print('Real: ',y_test_1[i],' | Pred: ', y_pred[i])"
      ],
      "metadata": {
        "colab": {
          "base_uri": "https://localhost:8080/"
        },
        "id": "FGozB_N9VzIG",
        "outputId": "a77c9d53-2894-41a1-dd55-4196496f400c"
      },
      "execution_count": null,
      "outputs": [
        {
          "output_type": "stream",
          "name": "stdout",
          "text": [
            "Real:  0  | Pred:  0\n",
            "Real:  1  | Pred:  0\n",
            "Real:  0  | Pred:  0\n",
            "Real:  0  | Pred:  0\n",
            "Real:  1  | Pred:  1\n",
            "Real:  0  | Pred:  0\n",
            "Real:  1  | Pred:  1\n",
            "Real:  0  | Pred:  0\n",
            "Real:  1  | Pred:  1\n",
            "Real:  0  | Pred:  0\n",
            "Real:  0  | Pred:  0\n",
            "Real:  0  | Pred:  0\n",
            "Real:  1  | Pred:  1\n",
            "Real:  0  | Pred:  0\n",
            "Real:  1  | Pred:  1\n",
            "Real:  1  | Pred:  1\n",
            "Real:  0  | Pred:  0\n",
            "Real:  0  | Pred:  0\n",
            "Real:  1  | Pred:  1\n",
            "Real:  1  | Pred:  0\n",
            "Real:  0  | Pred:  0\n",
            "Real:  0  | Pred:  0\n",
            "Real:  1  | Pred:  1\n",
            "Real:  0  | Pred:  0\n",
            "Real:  1  | Pred:  1\n",
            "Real:  0  | Pred:  0\n",
            "Real:  1  | Pred:  1\n",
            "Real:  0  | Pred:  0\n",
            "Real:  0  | Pred:  0\n",
            "Real:  0  | Pred:  0\n",
            "Real:  0  | Pred:  0\n",
            "Real:  0  | Pred:  0\n",
            "Real:  1  | Pred:  1\n",
            "Real:  1  | Pred:  0\n",
            "Real:  0  | Pred:  0\n",
            "Real:  0  | Pred:  0\n",
            "Real:  1  | Pred:  1\n",
            "Real:  1  | Pred:  1\n",
            "Real:  0  | Pred:  0\n",
            "Real:  0  | Pred:  1\n",
            "Real:  0  | Pred:  0\n",
            "Real:  0  | Pred:  0\n",
            "Real:  0  | Pred:  0\n",
            "Real:  1  | Pred:  1\n",
            "Real:  1  | Pred:  1\n",
            "Real:  0  | Pred:  0\n",
            "Real:  0  | Pred:  0\n",
            "Real:  0  | Pred:  0\n",
            "Real:  1  | Pred:  1\n",
            "Real:  1  | Pred:  1\n",
            "Real:  0  | Pred:  0\n",
            "Real:  0  | Pred:  0\n",
            "Real:  1  | Pred:  1\n",
            "Real:  1  | Pred:  1\n",
            "Real:  0  | Pred:  0\n",
            "Real:  0  | Pred:  0\n",
            "Real:  0  | Pred:  0\n",
            "Real:  0  | Pred:  0\n",
            "Real:  0  | Pred:  0\n",
            "Real:  1  | Pred:  1\n",
            "Real:  0  | Pred:  0\n",
            "Real:  0  | Pred:  0\n",
            "Real:  0  | Pred:  0\n",
            "Real:  1  | Pred:  1\n",
            "Real:  0  | Pred:  0\n",
            "Real:  1  | Pred:  1\n",
            "Real:  1  | Pred:  1\n",
            "Real:  0  | Pred:  0\n",
            "Real:  0  | Pred:  0\n",
            "Real:  1  | Pred:  1\n",
            "Real:  1  | Pred:  1\n",
            "Real:  0  | Pred:  0\n",
            "Real:  1  | Pred:  1\n",
            "Real:  0  | Pred:  0\n",
            "Real:  1  | Pred:  1\n",
            "Real:  0  | Pred:  0\n",
            "Real:  0  | Pred:  0\n",
            "Real:  1  | Pred:  1\n",
            "Real:  0  | Pred:  0\n",
            "Real:  1  | Pred:  1\n",
            "Real:  0  | Pred:  1\n",
            "Real:  0  | Pred:  0\n",
            "Real:  0  | Pred:  0\n",
            "Real:  0  | Pred:  0\n",
            "Real:  0  | Pred:  0\n",
            "Real:  0  | Pred:  0\n",
            "Real:  1  | Pred:  1\n",
            "Real:  1  | Pred:  1\n",
            "Real:  1  | Pred:  1\n",
            "Real:  0  | Pred:  1\n",
            "Real:  1  | Pred:  1\n",
            "Real:  0  | Pred:  0\n",
            "Real:  1  | Pred:  1\n",
            "Real:  0  | Pred:  0\n",
            "Real:  0  | Pred:  0\n",
            "Real:  0  | Pred:  0\n",
            "Real:  1  | Pred:  1\n",
            "Real:  0  | Pred:  0\n",
            "Real:  1  | Pred:  1\n",
            "Real:  0  | Pred:  0\n",
            "Real:  1  | Pred:  1\n",
            "Real:  0  | Pred:  0\n",
            "Real:  0  | Pred:  0\n",
            "Real:  0  | Pred:  0\n",
            "Real:  1  | Pred:  1\n",
            "Real:  0  | Pred:  0\n",
            "Real:  0  | Pred:  0\n",
            "Real:  0  | Pred:  0\n",
            "Real:  0  | Pred:  0\n",
            "Real:  0  | Pred:  0\n",
            "Real:  0  | Pred:  0\n",
            "Real:  1  | Pred:  1\n",
            "Real:  1  | Pred:  1\n",
            "Real:  1  | Pred:  1\n",
            "Real:  1  | Pred:  1\n",
            "Real:  0  | Pred:  0\n",
            "Real:  0  | Pred:  0\n",
            "Real:  1  | Pred:  1\n",
            "Real:  0  | Pred:  0\n",
            "Real:  1  | Pred:  1\n",
            "Real:  1  | Pred:  1\n",
            "Real:  0  | Pred:  0\n",
            "Real:  1  | Pred:  1\n",
            "Real:  0  | Pred:  0\n",
            "Real:  0  | Pred:  0\n",
            "Real:  1  | Pred:  1\n",
            "Real:  0  | Pred:  0\n",
            "Real:  1  | Pred:  1\n",
            "Real:  0  | Pred:  0\n",
            "Real:  0  | Pred:  0\n",
            "Real:  0  | Pred:  0\n",
            "Real:  0  | Pred:  0\n",
            "Real:  1  | Pred:  0\n",
            "Real:  0  | Pred:  0\n",
            "Real:  0  | Pred:  0\n",
            "Real:  0  | Pred:  0\n",
            "Real:  0  | Pred:  0\n",
            "Real:  0  | Pred:  0\n",
            "Real:  1  | Pred:  1\n",
            "Real:  0  | Pred:  0\n",
            "Real:  1  | Pred:  0\n",
            "Real:  1  | Pred:  1\n",
            "Real:  0  | Pred:  0\n",
            "Real:  0  | Pred:  0\n",
            "Real:  0  | Pred:  0\n",
            "Real:  0  | Pred:  0\n",
            "Real:  0  | Pred:  0\n",
            "Real:  0  | Pred:  0\n",
            "Real:  0  | Pred:  0\n",
            "Real:  0  | Pred:  0\n",
            "Real:  1  | Pred:  1\n",
            "Real:  0  | Pred:  0\n",
            "Real:  1  | Pred:  1\n",
            "Real:  0  | Pred:  0\n",
            "Real:  0  | Pred:  0\n",
            "Real:  1  | Pred:  1\n",
            "Real:  1  | Pred:  1\n",
            "Real:  0  | Pred:  0\n",
            "Real:  1  | Pred:  1\n",
            "Real:  1  | Pred:  1\n",
            "Real:  0  | Pred:  0\n",
            "Real:  1  | Pred:  1\n",
            "Real:  0  | Pred:  0\n",
            "Real:  0  | Pred:  0\n",
            "Real:  1  | Pred:  1\n",
            "Real:  0  | Pred:  0\n",
            "Real:  0  | Pred:  0\n",
            "Real:  1  | Pred:  1\n",
            "Real:  1  | Pred:  1\n",
            "Real:  0  | Pred:  0\n",
            "Real:  0  | Pred:  0\n",
            "Real:  0  | Pred:  0\n",
            "Real:  0  | Pred:  0\n",
            "Real:  0  | Pred:  0\n",
            "Real:  1  | Pred:  1\n",
            "Real:  1  | Pred:  1\n",
            "Real:  0  | Pred:  0\n",
            "Real:  1  | Pred:  1\n",
            "Real:  1  | Pred:  1\n",
            "Real:  0  | Pred:  0\n",
            "Real:  0  | Pred:  0\n",
            "Real:  1  | Pred:  1\n",
            "Real:  0  | Pred:  0\n",
            "Real:  1  | Pred:  1\n",
            "Real:  0  | Pred:  0\n",
            "Real:  1  | Pred:  1\n",
            "Real:  0  | Pred:  0\n",
            "Real:  1  | Pred:  0\n",
            "Real:  0  | Pred:  0\n",
            "Real:  0  | Pred:  0\n",
            "Real:  0  | Pred:  0\n",
            "Real:  0  | Pred:  0\n",
            "Real:  0  | Pred:  0\n",
            "Real:  0  | Pred:  0\n",
            "Real:  0  | Pred:  0\n",
            "Real:  0  | Pred:  1\n",
            "Real:  1  | Pred:  1\n",
            "Real:  0  | Pred:  0\n",
            "Real:  1  | Pred:  1\n",
            "Real:  1  | Pred:  1\n",
            "Real:  0  | Pred:  1\n",
            "Real:  0  | Pred:  0\n",
            "Real:  1  | Pred:  1\n",
            "Real:  0  | Pred:  0\n",
            "Real:  0  | Pred:  0\n",
            "Real:  1  | Pred:  1\n",
            "Real:  0  | Pred:  0\n",
            "Real:  1  | Pred:  1\n",
            "Real:  0  | Pred:  0\n",
            "Real:  0  | Pred:  0\n",
            "Real:  0  | Pred:  0\n",
            "Real:  0  | Pred:  0\n",
            "Real:  1  | Pred:  1\n",
            "Real:  1  | Pred:  0\n",
            "Real:  0  | Pred:  0\n",
            "Real:  1  | Pred:  1\n",
            "Real:  0  | Pred:  0\n",
            "Real:  1  | Pred:  1\n",
            "Real:  0  | Pred:  0\n",
            "Real:  1  | Pred:  1\n",
            "Real:  0  | Pred:  0\n",
            "Real:  1  | Pred:  1\n",
            "Real:  0  | Pred:  0\n",
            "Real:  1  | Pred:  1\n",
            "Real:  1  | Pred:  1\n",
            "Real:  0  | Pred:  0\n",
            "Real:  1  | Pred:  1\n",
            "Real:  0  | Pred:  0\n",
            "Real:  0  | Pred:  0\n",
            "Real:  0  | Pred:  0\n",
            "Real:  1  | Pred:  1\n",
            "Real:  0  | Pred:  0\n",
            "Real:  0  | Pred:  0\n",
            "Real:  0  | Pred:  0\n",
            "Real:  0  | Pred:  0\n",
            "Real:  0  | Pred:  0\n",
            "Real:  0  | Pred:  0\n",
            "Real:  1  | Pred:  1\n",
            "Real:  1  | Pred:  1\n",
            "Real:  1  | Pred:  1\n",
            "Real:  1  | Pred:  1\n",
            "Real:  0  | Pred:  0\n",
            "Real:  0  | Pred:  0\n",
            "Real:  0  | Pred:  0\n",
            "Real:  0  | Pred:  0\n",
            "Real:  1  | Pred:  1\n",
            "Real:  0  | Pred:  0\n",
            "Real:  1  | Pred:  1\n",
            "Real:  1  | Pred:  1\n",
            "Real:  1  | Pred:  1\n",
            "Real:  0  | Pred:  0\n",
            "Real:  0  | Pred:  0\n",
            "Real:  0  | Pred:  0\n",
            "Real:  0  | Pred:  0\n",
            "Real:  0  | Pred:  0\n",
            "Real:  0  | Pred:  0\n",
            "Real:  0  | Pred:  0\n",
            "Real:  1  | Pred:  1\n",
            "Real:  0  | Pred:  0\n",
            "Real:  0  | Pred:  0\n",
            "Real:  0  | Pred:  0\n",
            "Real:  1  | Pred:  1\n",
            "Real:  1  | Pred:  1\n",
            "Real:  0  | Pred:  0\n",
            "Real:  0  | Pred:  0\n",
            "Real:  0  | Pred:  0\n",
            "Real:  0  | Pred:  0\n",
            "Real:  1  | Pred:  1\n",
            "Real:  0  | Pred:  0\n",
            "Real:  0  | Pred:  0\n",
            "Real:  0  | Pred:  0\n",
            "Real:  1  | Pred:  1\n",
            "Real:  1  | Pred:  1\n",
            "Real:  0  | Pred:  0\n",
            "Real:  1  | Pred:  1\n",
            "Real:  0  | Pred:  0\n",
            "Real:  0  | Pred:  0\n",
            "Real:  0  | Pred:  0\n",
            "Real:  0  | Pred:  0\n",
            "Real:  1  | Pred:  1\n",
            "Real:  0  | Pred:  1\n",
            "Real:  1  | Pred:  1\n",
            "Real:  1  | Pred:  1\n",
            "Real:  1  | Pred:  1\n",
            "Real:  0  | Pred:  0\n",
            "Real:  0  | Pred:  0\n",
            "Real:  0  | Pred:  0\n",
            "Real:  0  | Pred:  0\n",
            "Real:  0  | Pred:  0\n",
            "Real:  0  | Pred:  0\n",
            "Real:  1  | Pred:  1\n",
            "Real:  0  | Pred:  0\n",
            "Real:  0  | Pred:  0\n",
            "Real:  0  | Pred:  0\n",
            "Real:  0  | Pred:  0\n",
            "Real:  1  | Pred:  1\n",
            "Real:  0  | Pred:  0\n",
            "Real:  0  | Pred:  0\n",
            "Real:  0  | Pred:  0\n",
            "Real:  0  | Pred:  0\n",
            "Real:  0  | Pred:  0\n",
            "Real:  0  | Pred:  0\n",
            "Real:  0  | Pred:  0\n",
            "Real:  1  | Pred:  1\n",
            "Real:  1  | Pred:  1\n",
            "Real:  0  | Pred:  0\n",
            "Real:  0  | Pred:  1\n",
            "Real:  0  | Pred:  0\n",
            "Real:  1  | Pred:  0\n",
            "Real:  0  | Pred:  0\n",
            "Real:  0  | Pred:  0\n",
            "Real:  0  | Pred:  0\n",
            "Real:  1  | Pred:  0\n",
            "Real:  1  | Pred:  1\n",
            "Real:  1  | Pred:  1\n",
            "Real:  0  | Pred:  0\n",
            "Real:  0  | Pred:  0\n",
            "Real:  0  | Pred:  0\n",
            "Real:  0  | Pred:  0\n",
            "Real:  0  | Pred:  0\n",
            "Real:  0  | Pred:  0\n",
            "Real:  0  | Pred:  0\n",
            "Real:  0  | Pred:  0\n",
            "Real:  1  | Pred:  1\n",
            "Real:  0  | Pred:  0\n",
            "Real:  1  | Pred:  1\n",
            "Real:  0  | Pred:  0\n",
            "Real:  0  | Pred:  0\n",
            "Real:  0  | Pred:  0\n",
            "Real:  1  | Pred:  1\n",
            "Real:  0  | Pred:  0\n",
            "Real:  0  | Pred:  0\n",
            "Real:  1  | Pred:  1\n",
            "Real:  0  | Pred:  0\n",
            "Real:  0  | Pred:  0\n",
            "Real:  0  | Pred:  0\n",
            "Real:  0  | Pred:  0\n",
            "Real:  0  | Pred:  0\n",
            "Real:  0  | Pred:  0\n",
            "Real:  0  | Pred:  0\n",
            "Real:  0  | Pred:  0\n",
            "Real:  0  | Pred:  0\n",
            "Real:  1  | Pred:  1\n",
            "Real:  0  | Pred:  0\n",
            "Real:  1  | Pred:  1\n",
            "Real:  0  | Pred:  0\n",
            "Real:  1  | Pred:  0\n",
            "Real:  0  | Pred:  0\n",
            "Real:  1  | Pred:  1\n",
            "Real:  1  | Pred:  1\n",
            "Real:  0  | Pred:  0\n",
            "Real:  0  | Pred:  0\n",
            "Real:  0  | Pred:  0\n",
            "Real:  1  | Pred:  1\n",
            "Real:  0  | Pred:  0\n",
            "Real:  1  | Pred:  1\n",
            "Real:  0  | Pred:  0\n",
            "Real:  0  | Pred:  0\n",
            "Real:  1  | Pred:  1\n",
            "Real:  0  | Pred:  0\n",
            "Real:  1  | Pred:  1\n",
            "Real:  1  | Pred:  1\n",
            "Real:  0  | Pred:  0\n",
            "Real:  1  | Pred:  1\n",
            "Real:  1  | Pred:  0\n",
            "Real:  0  | Pred:  0\n",
            "Real:  1  | Pred:  1\n",
            "Real:  1  | Pred:  1\n",
            "Real:  0  | Pred:  0\n",
            "Real:  0  | Pred:  0\n",
            "Real:  1  | Pred:  1\n",
            "Real:  0  | Pred:  0\n",
            "Real:  0  | Pred:  0\n",
            "Real:  1  | Pred:  1\n",
            "Real:  1  | Pred:  1\n",
            "Real:  1  | Pred:  1\n",
            "Real:  0  | Pred:  0\n",
            "Real:  0  | Pred:  0\n",
            "Real:  0  | Pred:  0\n",
            "Real:  0  | Pred:  0\n",
            "Real:  0  | Pred:  0\n",
            "Real:  1  | Pred:  1\n",
            "Real:  1  | Pred:  1\n",
            "Real:  0  | Pred:  0\n",
            "Real:  1  | Pred:  1\n",
            "Real:  0  | Pred:  0\n",
            "Real:  0  | Pred:  0\n",
            "Real:  0  | Pred:  0\n",
            "Real:  0  | Pred:  0\n",
            "Real:  0  | Pred:  0\n",
            "Real:  1  | Pred:  1\n",
            "Real:  0  | Pred:  0\n",
            "Real:  0  | Pred:  0\n",
            "Real:  0  | Pred:  0\n",
            "Real:  1  | Pred:  1\n",
            "Real:  0  | Pred:  0\n",
            "Real:  1  | Pred:  1\n",
            "Real:  0  | Pred:  0\n",
            "Real:  0  | Pred:  0\n",
            "Real:  1  | Pred:  1\n",
            "Real:  0  | Pred:  0\n",
            "Real:  1  | Pred:  1\n",
            "Real:  0  | Pred:  0\n",
            "Real:  0  | Pred:  0\n",
            "Real:  0  | Pred:  0\n",
            "Real:  0  | Pred:  0\n",
            "Real:  0  | Pred:  0\n",
            "Real:  1  | Pred:  1\n",
            "Real:  1  | Pred:  1\n",
            "Real:  1  | Pred:  1\n",
            "Real:  1  | Pred:  1\n",
            "Real:  1  | Pred:  1\n",
            "Real:  0  | Pred:  0\n",
            "Real:  1  | Pred:  1\n",
            "Real:  0  | Pred:  0\n",
            "Real:  0  | Pred:  0\n",
            "Real:  0  | Pred:  0\n"
          ]
        }
      ]
    },
    {
      "cell_type": "code",
      "source": [
        "from sklearn.metrics import confusion_matrix\n",
        "cf_matrix = confusion_matrix(y_test, y_pred)\n",
        "cf_matrix"
      ],
      "metadata": {
        "colab": {
          "base_uri": "https://localhost:8080/"
        },
        "id": "x-xeG-PNagCy",
        "outputId": "649f790d-e7bc-42f3-c798-578df3834911"
      },
      "execution_count": null,
      "outputs": [
        {
          "output_type": "execute_result",
          "data": {
            "text/plain": [
              "array([[258,   7],\n",
              "       [ 11, 141]])"
            ]
          },
          "metadata": {},
          "execution_count": 96
        }
      ]
    },
    {
      "cell_type": "code",
      "source": [
        "ax = sns.heatmap(cf_matrix/np.sum(cf_matrix), annot=True, \n",
        "            fmt='.2%', cmap='Blues')\n",
        "\n",
        "ax.set_title('Seaborn Confusion Matrix with labels\\n\\n');\n",
        "ax.set_xlabel('\\nPredicted Values')\n",
        "ax.set_ylabel('Actual Values ');\n",
        "\n",
        "## Ticket labels - List must be in alphabetical order\n",
        "ax.xaxis.set_ticklabels(['False','True'])\n",
        "ax.yaxis.set_ticklabels(['False','True'])\n",
        "\n",
        "## Display the visualization of the Confusion Matrix.\n",
        "plt.show()"
      ],
      "metadata": {
        "colab": {
          "base_uri": "https://localhost:8080/",
          "height": 337
        },
        "id": "gHtFxedTaiV6",
        "outputId": "eee01b16-ce3a-4558-99e9-3a19e25b10ae"
      },
      "execution_count": null,
      "outputs": [
        {
          "output_type": "display_data",
          "data": {
            "text/plain": [
              "<Figure size 432x288 with 2 Axes>"
            ],
            "image/png": "[encoded data removed]"
          },
          "metadata": {
            "needs_background": "light"
          }
        }
      ]
    },
    {
      "cell_type": "code",
      "source": [
        "tree.plot_tree(clf)\n",
        "plt.show()\n",
        "plt.savefig('out.pdf')"
      ],
      "metadata": {
        "colab": {
          "base_uri": "https://localhost:8080/",
          "height": 266
        },
        "id": "XCVInbx1Q3SU",
        "outputId": "5c726f3e-097c-455a-d3b8-8d9e8288f9bc"
      },
      "execution_count": null,
      "outputs": [
        {
          "output_type": "display_data",
          "data": {
            "text/plain": [
              "<Figure size 432x288 with 1 Axes>"
            ],
            "image/png": "[encoded data removed]"
          },
          "metadata": {
            "needs_background": "light"
          }
        },
        {
          "output_type": "display_data",
          "data": {
            "text/plain": [
              "<Figure size 432x288 with 0 Axes>"
            ]
          },
          "metadata": {}
        }
      ]
    },
    {
      "cell_type": "code",
      "source": [
        "fig = plt.figure(figsize=(25,20))\n",
        "_ = tree.plot_tree(clf,   \n",
        "                   filled=True)"
      ],
      "metadata": {
        "colab": {
          "base_uri": "https://localhost:8080/",
          "height": 798
        },
        "id": "1Nm5EXPEefde",
        "outputId": "0bdad31b-a00a-4e3b-da85-edc439726530"
      },
      "execution_count": null,
      "outputs": [
        {
          "output_type": "display_data",
          "data": {
            "text/plain": [
              "<Figure size 1800x1440 with 1 Axes>"
            ],
            "image/png": "[encoded data removed]"
          },
          "metadata": {
            "needs_background": "light"
          }
        }
      ]
    },
    {
      "cell_type": "code",
      "source": [
        "fig.savefig(\"decistion_tree.png\")"
      ],
      "metadata": {
        "id": "ZRY7KogSgK4R"
      },
      "execution_count": null,
      "outputs": []
    },
    {
      "cell_type": "code",
      "source": [
        "start_time = datetime.now()\n",
        "clf = DecisionTreeClassifier(criterion = \"entropy\",max_depth = 5,random_state=0)\n",
        "clf.fit(X_train, y_train)\n",
        "y_pred=clf.predict(X_test)\n",
        "#Import scikit-learn metrics module for accuracy calculation\n",
        "from sklearn import metrics\n",
        "\n",
        "# Model Accuracy, how often is the classifier correct?\n",
        "print(\"Accuracy:\",metrics.accuracy_score(y_test, y_pred))\n",
        "end_time = datetime.now()\n",
        "\n",
        "\n",
        "tiempo = end_time-start_time\n",
        "\n",
        "print(tiempo)"
      ],
      "metadata": {
        "colab": {
          "base_uri": "https://localhost:8080/"
        },
        "id": "1PSJBDd-lV97",
        "outputId": "983b82d0-40e7-4f04-8209-40b5a00021b1"
      },
      "execution_count": null,
      "outputs": [
        {
          "output_type": "stream",
          "name": "stdout",
          "text": [
            "Accuracy: 0.9280575539568345\n",
            "0:00:00.031686\n"
          ]
        }
      ]
    },
    {
      "cell_type": "code",
      "source": [
        "from sklearn.metrics import confusion_matrix\n",
        "confusion_matrix(y_test, y_pred)"
      ],
      "metadata": {
        "id": "0TswNPUwBdIZ",
        "colab": {
          "base_uri": "https://localhost:8080/"
        },
        "outputId": "e5896b21-adf5-42d1-88fa-e4e02c863eee"
      },
      "execution_count": null,
      "outputs": [
        {
          "output_type": "execute_result",
          "data": {
            "text/plain": [
              "array([[247,  18],\n",
              "       [ 12, 140]])"
            ]
          },
          "metadata": {},
          "execution_count": 59
        }
      ]
    },
    {
      "cell_type": "markdown",
      "source": [
        "Random Forest"
      ],
      "metadata": {
        "id": "cNAndMB8cGNi"
      }
    },
    {
      "cell_type": "code",
      "source": [
        "#Import Random Forest Model\n",
        "from sklearn.ensemble import RandomForestClassifier\n",
        "\n",
        "#Create a Gaussian Classifier\n",
        "clf=RandomForestClassifier(max_depth = 5,n_estimators=100,random_state=0)\n",
        "\n",
        "#Train the model using the training sets y_pred=clf.predict(X_test)\n",
        "clf.fit(X_train,y_train)\n",
        "\n",
        "y_pred=clf.predict(X_test)"
      ],
      "metadata": {
        "id": "6XMh6LCrZE3I"
      },
      "execution_count": null,
      "outputs": []
    },
    {
      "cell_type": "code",
      "source": [
        "#Import scikit-learn metrics module for accuracy calculation\n",
        "from sklearn import metrics\n",
        "# Model Accuracy, how often is the classifier correct?\n",
        "print(\"Accuracy:\",metrics.accuracy_score(y_test, y_pred))"
      ],
      "metadata": {
        "colab": {
          "base_uri": "https://localhost:8080/"
        },
        "id": "otEsJkWoAijG",
        "outputId": "2ba15112-3dc2-4ae6-b38f-a2a0640caac5"
      },
      "execution_count": null,
      "outputs": [
        {
          "output_type": "stream",
          "name": "stdout",
          "text": [
            "Accuracy: 0.8920863309352518\n"
          ]
        }
      ]
    },
    {
      "cell_type": "code",
      "source": [
        "from sklearn.metrics import confusion_matrix\n",
        "confusion_matrix(y_test, y_pred)"
      ],
      "metadata": {
        "colab": {
          "base_uri": "https://localhost:8080/"
        },
        "id": "BAGeRE00S4wa",
        "outputId": "95f49757-fe28-4c71-d93c-441b0d470feb"
      },
      "execution_count": null,
      "outputs": [
        {
          "output_type": "execute_result",
          "data": {
            "text/plain": [
              "array([[256,   9],\n",
              "       [ 36, 116]])"
            ]
          },
          "metadata": {},
          "execution_count": 63
        }
      ]
    },
    {
      "cell_type": "code",
      "source": [
        "forest = RandomForestClassifier(random_state = 1)\n",
        "modelF = forest.fit(X_train, y_train)\n",
        "y_predF = modelF.predict(X_test)"
      ],
      "metadata": {
        "id": "Btnel5tXB8da"
      },
      "execution_count": null,
      "outputs": []
    },
    {
      "cell_type": "code",
      "source": [
        "#from sklearn.model_selection import GridSearchCV\n",
        "#n_estimators = [100, 300, 500, 800, 1200]\n",
        "#max_depth = [5, 8, 15, 25, 30]\n",
        "#min_samples_split = [2, 5, 10, 15, 100]\n",
        "#min_samples_leaf = [1, 2, 5, 10] \n",
        "\n",
        "#hyperF = dict(n_estimators = n_estimators, max_depth = max_depth,  \n",
        "  #            min_samples_split = min_samples_split, \n",
        " #            min_samples_leaf = min_samples_leaf)\n",
        "\n",
        "#gridF = GridSearchCV(forest, hyperF, cv = 3, verbose = 1, \n",
        "               #       n_jobs = -1)\n",
        "#bestF = gridF.fit(X_train, y_train)"
      ],
      "metadata": {
        "id": "QRJrZbg5Bgwh"
      },
      "execution_count": null,
      "outputs": []
    },
    {
      "cell_type": "code",
      "source": [
        "#bestF.best_params_"
      ],
      "metadata": {
        "id": "Ze9R0E3cI3DN"
      },
      "execution_count": null,
      "outputs": []
    },
    {
      "cell_type": "code",
      "source": [
        "start_time = datetime.now()\n",
        "clf=RandomForestClassifier(max_depth = 5,min_samples_leaf =2, min_samples_split=15, n_estimators=100,random_state=5,max_features = 4)\n",
        "\n",
        "#Train the model using the training sets y_pred=clf.predict(X_test)\n",
        "clf.fit(X_train,y_train)\n",
        "\n",
        "y_pred=clf.predict(X_test)"
      ],
      "metadata": {
        "id": "WdpNHRJbKMdN"
      },
      "execution_count": null,
      "outputs": []
    },
    {
      "cell_type": "code",
      "source": [
        "#Import scikit-learn metrics module for accuracy calculation\n",
        "from sklearn import metrics\n",
        "# Model Accuracy, how often is the classifier correct?\n",
        "\n",
        "print(\"Accuracy:\",metrics.accuracy_score(y_test, y_pred))\n",
        "end_time = datetime.now()\n",
        "\n",
        "tiempo = end_time-start_time\n",
        "\n",
        "print(tiempo)"
      ],
      "metadata": {
        "colab": {
          "base_uri": "https://localhost:8080/"
        },
        "id": "FhZni7DQKbxg",
        "outputId": "c041351b-16b6-4ac2-d959-e3f849e046d5"
      },
      "execution_count": null,
      "outputs": [
        {
          "output_type": "stream",
          "name": "stdout",
          "text": [
            "Accuracy: 0.9232613908872902\n",
            "0:00:00.551618\n"
          ]
        }
      ]
    },
    {
      "cell_type": "code",
      "source": [
        "clf=RandomForestClassifier(criterion = \"entropy\", max_depth = 5,min_samples_leaf =2, min_samples_split=15, n_estimators=100,random_state=5,max_features = 4)\n",
        "\n",
        "#Train the model using the training sets y_pred=clf.predict(X_test)\n",
        "clf.fit(X_train,y_train)\n",
        "\n",
        "y_pred=clf.predict(X_test)"
      ],
      "metadata": {
        "id": "BI350UCFkpUy"
      },
      "execution_count": null,
      "outputs": []
    },
    {
      "cell_type": "code",
      "source": [
        "#Import scikit-learn metrics module for accuracy calculation\n",
        "from sklearn import metrics\n",
        "# Model Accuracy, how often is the classifier correct?\n",
        "print(\"Accuracy:\",metrics.accuracy_score(y_test, y_pred))"
      ],
      "metadata": {
        "colab": {
          "base_uri": "https://localhost:8080/"
        },
        "id": "VW0bEMYpkvJ9",
        "outputId": "fb2b32b0-cbdb-4497-fdb7-033d18d9ffaf"
      },
      "execution_count": null,
      "outputs": [
        {
          "output_type": "stream",
          "name": "stdout",
          "text": [
            "Accuracy: 0.920863309352518\n"
          ]
        }
      ]
    },
    {
      "cell_type": "markdown",
      "source": [
        "Random Forest Important features"
      ],
      "metadata": {
        "id": "1ty_sACtWtmF"
      }
    },
    {
      "cell_type": "code",
      "source": [
        "names = list(X_test.columns)\n",
        "feature_imp = pd.Series(clf.feature_importances_,index=names).sort_values(ascending=False)\n",
        "feature_imp"
      ],
      "metadata": {
        "id": "xJIvB84HVGFj",
        "colab": {
          "base_uri": "https://localhost:8080/"
        },
        "outputId": "3505477f-1644-4b53-e7ed-231d87ae8a7f"
      },
      "execution_count": null,
      "outputs": [
        {
          "output_type": "execute_result",
          "data": {
            "text/plain": [
              "Sex         0.465909\n",
              "Fare        0.178516\n",
              "Pclass      0.151979\n",
              "Age         0.123583\n",
              "SibSp       0.041543\n",
              "Parch       0.020115\n",
              "Embarked    0.018354\n",
              "dtype: float64"
            ]
          },
          "metadata": {},
          "execution_count": 71
        }
      ]
    },
    {
      "cell_type": "code",
      "source": [
        "import matplotlib.pyplot as plt\n",
        "import seaborn as sns\n",
        "%matplotlib inline\n",
        "# Creating a bar plot\n",
        "sns.barplot(x=feature_imp, y=feature_imp.index)\n",
        "# Add labels to your graph\n",
        "plt.xlabel('Feature Importance Score')\n",
        "plt.ylabel('Features')\n",
        "plt.title(\"Visualizing Important Features\")\n",
        "plt.legend()\n",
        "plt.show()"
      ],
      "metadata": {
        "id": "JoqKNBsqXSw4",
        "colab": {
          "base_uri": "https://localhost:8080/",
          "height": 313
        },
        "outputId": "cffea578-5341-40a8-9330-79db7e0eed31"
      },
      "execution_count": null,
      "outputs": [
        {
          "output_type": "stream",
          "name": "stderr",
          "text": [
            "WARNING:matplotlib.legend:No handles with labels found to put in legend.\n"
          ]
        },
        {
          "output_type": "display_data",
          "data": {
            "text/plain": [
              "<Figure size 432x288 with 1 Axes>"
            ],
            "image/png": "[encoded data removed]"
          },
          "metadata": {
            "needs_background": "light"
          }
        }
      ]
    },
    {
      "cell_type": "code",
      "source": [
        "X_test_1 = X_test.drop(['Embarked','Parch'], axis = 1)\n",
        "X_train_1 = X_train.drop(['Embarked','Parch'], axis = 1)"
      ],
      "metadata": {
        "id": "LsrwtyWQXXuz"
      },
      "execution_count": null,
      "outputs": []
    },
    {
      "cell_type": "code",
      "source": [
        "\n",
        "#Create a Gaussian Classifier\n",
        "clf=RandomForestClassifier(max_depth = 5,min_samples_leaf =2, min_samples_split=15, n_estimators=100,random_state=5,max_features = 4)\n",
        "\n",
        "#Train the model using the training sets y_pred=clf.predict(X_test)\n",
        "clf.fit(X_train_1,y_train)\n",
        "\n",
        "y_pred=clf.predict(X_test_1)"
      ],
      "metadata": {
        "id": "-rKGlfI2X1_c"
      },
      "execution_count": null,
      "outputs": []
    },
    {
      "cell_type": "code",
      "source": [
        "print(\"Accuracy:\",metrics.accuracy_score(y_test, y_pred))"
      ],
      "metadata": {
        "id": "4tWa8yFRX6sK",
        "colab": {
          "base_uri": "https://localhost:8080/"
        },
        "outputId": "ad20a4f4-f237-4c89-f7a8-6cc7b0237c74"
      },
      "execution_count": null,
      "outputs": [
        {
          "output_type": "stream",
          "name": "stdout",
          "text": [
            "Accuracy: 0.9136690647482014\n"
          ]
        }
      ]
    },
    {
      "cell_type": "markdown",
      "source": [
        "# Red Neuronal"
      ],
      "metadata": {
        "id": "WdAVD2OCuF-M"
      }
    },
    {
      "cell_type": "code",
      "source": [
        "from tensorflow import keras\n",
        "\n",
        "start_time = datetime.now()\n",
        "model=keras.Sequential([\n",
        "    keras.layers.Dense(20,input_shape=(7,),activation='relu'),\n",
        "    keras.layers.Dense(10,activation='relu'),\n",
        "    keras.layers.Dense(1,activation='sigmoid')\n",
        "])\n",
        "model.compile(optimizer='adam',\n",
        "              loss='binary_crossentropy',\n",
        "              metrics=['accuracy']\n",
        ")\n",
        "model.fit(X_train,y_train,epochs=150,batch_size=18)\n",
        "predict=model.predict(X_test)\n",
        "\n",
        "end_time = datetime.now()\n",
        "\n",
        "tiempo = end_time-start_time\n",
        "\n",
        "print(tiempo)"
      ],
      "metadata": {
        "id": "EEaSr-DRrWo6",
        "colab": {
          "base_uri": "https://localhost:8080/"
        },
        "outputId": "be73a9f6-12d4-4ba9-d271-93166a4b0853"
      },
      "execution_count": null,
      "outputs": [
        {
          "output_type": "stream",
          "name": "stdout",
          "text": [
            "Epoch 1/150\n",
            "50/50 [==============================] - 1s 2ms/step - loss: 1.0886 - accuracy: 0.6817\n",
            "Epoch 2/150\n",
            "50/50 [==============================] - 0s 2ms/step - loss: 0.6746 - accuracy: 0.6794\n",
            "Epoch 3/150\n",
            "50/50 [==============================] - 0s 2ms/step - loss: 0.6114 - accuracy: 0.7008\n",
            "Epoch 4/150\n",
            "50/50 [==============================] - 0s 2ms/step - loss: 0.6025 - accuracy: 0.7030\n",
            "Epoch 5/150\n",
            "50/50 [==============================] - 0s 3ms/step - loss: 0.5906 - accuracy: 0.7143\n",
            "Epoch 6/150\n",
            "50/50 [==============================] - 0s 2ms/step - loss: 0.5825 - accuracy: 0.7109\n",
            "Epoch 7/150\n",
            "50/50 [==============================] - 0s 2ms/step - loss: 0.5789 - accuracy: 0.7087\n",
            "Epoch 8/150\n",
            "50/50 [==============================] - 0s 2ms/step - loss: 0.5723 - accuracy: 0.7154\n",
            "Epoch 9/150\n",
            "50/50 [==============================] - 0s 2ms/step - loss: 0.5637 - accuracy: 0.7199\n",
            "Epoch 10/150\n",
            "50/50 [==============================] - 0s 2ms/step - loss: 0.5631 - accuracy: 0.7177\n",
            "Epoch 11/150\n",
            "50/50 [==============================] - 0s 2ms/step - loss: 0.5565 - accuracy: 0.7199\n",
            "Epoch 12/150\n",
            "50/50 [==============================] - 0s 2ms/step - loss: 0.5491 - accuracy: 0.7312\n",
            "Epoch 13/150\n",
            "50/50 [==============================] - 0s 2ms/step - loss: 0.5493 - accuracy: 0.7267\n",
            "Epoch 14/150\n",
            "50/50 [==============================] - 0s 2ms/step - loss: 0.5405 - accuracy: 0.7312\n",
            "Epoch 15/150\n",
            "50/50 [==============================] - 0s 2ms/step - loss: 0.5369 - accuracy: 0.7334\n",
            "Epoch 16/150\n",
            "50/50 [==============================] - 0s 2ms/step - loss: 0.5368 - accuracy: 0.7379\n",
            "Epoch 17/150\n",
            "50/50 [==============================] - 0s 2ms/step - loss: 0.5271 - accuracy: 0.7390\n",
            "Epoch 18/150\n",
            "50/50 [==============================] - 0s 2ms/step - loss: 0.5231 - accuracy: 0.7289\n",
            "Epoch 19/150\n",
            "50/50 [==============================] - 0s 2ms/step - loss: 0.5180 - accuracy: 0.7492\n",
            "Epoch 20/150\n",
            "50/50 [==============================] - 0s 2ms/step - loss: 0.5106 - accuracy: 0.7469\n",
            "Epoch 21/150\n",
            "50/50 [==============================] - 0s 2ms/step - loss: 0.5080 - accuracy: 0.7559\n",
            "Epoch 22/150\n",
            "50/50 [==============================] - 0s 2ms/step - loss: 0.5043 - accuracy: 0.7435\n",
            "Epoch 23/150\n",
            "50/50 [==============================] - 0s 2ms/step - loss: 0.4980 - accuracy: 0.7570\n",
            "Epoch 24/150\n",
            "50/50 [==============================] - 0s 3ms/step - loss: 0.5007 - accuracy: 0.7660\n",
            "Epoch 25/150\n",
            "50/50 [==============================] - 0s 2ms/step - loss: 0.4972 - accuracy: 0.7795\n",
            "Epoch 26/150\n",
            "50/50 [==============================] - 0s 3ms/step - loss: 0.4929 - accuracy: 0.7739\n",
            "Epoch 27/150\n",
            "50/50 [==============================] - 0s 3ms/step - loss: 0.4986 - accuracy: 0.7638\n",
            "Epoch 28/150\n",
            "50/50 [==============================] - 0s 2ms/step - loss: 0.4913 - accuracy: 0.7807\n",
            "Epoch 29/150\n",
            "50/50 [==============================] - 0s 3ms/step - loss: 0.4820 - accuracy: 0.7717\n",
            "Epoch 30/150\n",
            "50/50 [==============================] - 0s 3ms/step - loss: 0.4752 - accuracy: 0.7840\n",
            "Epoch 31/150\n",
            "50/50 [==============================] - 0s 2ms/step - loss: 0.4716 - accuracy: 0.7784\n",
            "Epoch 32/150\n",
            "50/50 [==============================] - 0s 2ms/step - loss: 0.4671 - accuracy: 0.7885\n",
            "Epoch 33/150\n",
            "50/50 [==============================] - 0s 2ms/step - loss: 0.4734 - accuracy: 0.7773\n",
            "Epoch 34/150\n",
            "50/50 [==============================] - 0s 2ms/step - loss: 0.4746 - accuracy: 0.7919\n",
            "Epoch 35/150\n",
            "50/50 [==============================] - 0s 3ms/step - loss: 0.4599 - accuracy: 0.7930\n",
            "Epoch 36/150\n",
            "50/50 [==============================] - 0s 2ms/step - loss: 0.4605 - accuracy: 0.7795\n",
            "Epoch 37/150\n",
            "50/50 [==============================] - 0s 2ms/step - loss: 0.4569 - accuracy: 0.7975\n",
            "Epoch 38/150\n",
            "50/50 [==============================] - 0s 2ms/step - loss: 0.4634 - accuracy: 0.8144\n",
            "Epoch 39/150\n",
            "50/50 [==============================] - 0s 2ms/step - loss: 0.4553 - accuracy: 0.7919\n",
            "Epoch 40/150\n",
            "50/50 [==============================] - 0s 2ms/step - loss: 0.4544 - accuracy: 0.7897\n",
            "Epoch 41/150\n",
            "50/50 [==============================] - 0s 2ms/step - loss: 0.4525 - accuracy: 0.7930\n",
            "Epoch 42/150\n",
            "50/50 [==============================] - 0s 2ms/step - loss: 0.4539 - accuracy: 0.8065\n",
            "Epoch 43/150\n",
            "50/50 [==============================] - 0s 2ms/step - loss: 0.4470 - accuracy: 0.8031\n",
            "Epoch 44/150\n",
            "50/50 [==============================] - 0s 2ms/step - loss: 0.4491 - accuracy: 0.8043\n",
            "Epoch 45/150\n",
            "50/50 [==============================] - 0s 2ms/step - loss: 0.4561 - accuracy: 0.8009\n",
            "Epoch 46/150\n",
            "50/50 [==============================] - 0s 2ms/step - loss: 0.4485 - accuracy: 0.8099\n",
            "Epoch 47/150\n",
            "50/50 [==============================] - 0s 2ms/step - loss: 0.4438 - accuracy: 0.7964\n",
            "Epoch 48/150\n",
            "50/50 [==============================] - 0s 2ms/step - loss: 0.4400 - accuracy: 0.8031\n",
            "Epoch 49/150\n",
            "50/50 [==============================] - 0s 2ms/step - loss: 0.4528 - accuracy: 0.8076\n",
            "Epoch 50/150\n",
            "50/50 [==============================] - 0s 2ms/step - loss: 0.4420 - accuracy: 0.7998\n",
            "Epoch 51/150\n",
            "50/50 [==============================] - 0s 2ms/step - loss: 0.4477 - accuracy: 0.8099\n",
            "Epoch 52/150\n",
            "50/50 [==============================] - 0s 2ms/step - loss: 0.4571 - accuracy: 0.7987\n",
            "Epoch 53/150\n",
            "50/50 [==============================] - 0s 2ms/step - loss: 0.4453 - accuracy: 0.8099\n",
            "Epoch 54/150\n",
            "50/50 [==============================] - 0s 2ms/step - loss: 0.4433 - accuracy: 0.8133\n",
            "Epoch 55/150\n",
            "50/50 [==============================] - 0s 2ms/step - loss: 0.4396 - accuracy: 0.8054\n",
            "Epoch 56/150\n",
            "50/50 [==============================] - 0s 2ms/step - loss: 0.4378 - accuracy: 0.8009\n",
            "Epoch 57/150\n",
            "50/50 [==============================] - 0s 2ms/step - loss: 0.4346 - accuracy: 0.8076\n",
            "Epoch 58/150\n",
            "50/50 [==============================] - 0s 2ms/step - loss: 0.4409 - accuracy: 0.8121\n",
            "Epoch 59/150\n",
            "50/50 [==============================] - 0s 2ms/step - loss: 0.4386 - accuracy: 0.8054\n",
            "Epoch 60/150\n",
            "50/50 [==============================] - 0s 2ms/step - loss: 0.4324 - accuracy: 0.8031\n",
            "Epoch 61/150\n",
            "50/50 [==============================] - 0s 2ms/step - loss: 0.4373 - accuracy: 0.8065\n",
            "Epoch 62/150\n",
            "50/50 [==============================] - 0s 2ms/step - loss: 0.4381 - accuracy: 0.8031\n",
            "Epoch 63/150\n",
            "50/50 [==============================] - 0s 2ms/step - loss: 0.4395 - accuracy: 0.7987\n",
            "Epoch 64/150\n",
            "50/50 [==============================] - 0s 2ms/step - loss: 0.4354 - accuracy: 0.8088\n",
            "Epoch 65/150\n",
            "50/50 [==============================] - 0s 2ms/step - loss: 0.4327 - accuracy: 0.8088\n",
            "Epoch 66/150\n",
            "50/50 [==============================] - 0s 2ms/step - loss: 0.4359 - accuracy: 0.8031\n",
            "Epoch 67/150\n",
            "50/50 [==============================] - 0s 2ms/step - loss: 0.4357 - accuracy: 0.8076\n",
            "Epoch 68/150\n",
            "50/50 [==============================] - 0s 2ms/step - loss: 0.4342 - accuracy: 0.8031\n",
            "Epoch 69/150\n",
            "50/50 [==============================] - 0s 2ms/step - loss: 0.4380 - accuracy: 0.8065\n",
            "Epoch 70/150\n",
            "50/50 [==============================] - 0s 2ms/step - loss: 0.4333 - accuracy: 0.8200\n",
            "Epoch 71/150\n",
            "50/50 [==============================] - 0s 2ms/step - loss: 0.4384 - accuracy: 0.8155\n",
            "Epoch 72/150\n",
            "50/50 [==============================] - 0s 2ms/step - loss: 0.4420 - accuracy: 0.7998\n",
            "Epoch 73/150\n",
            "50/50 [==============================] - 0s 2ms/step - loss: 0.4490 - accuracy: 0.8054\n",
            "Epoch 74/150\n",
            "50/50 [==============================] - 0s 2ms/step - loss: 0.4483 - accuracy: 0.8076\n",
            "Epoch 75/150\n",
            "50/50 [==============================] - 0s 2ms/step - loss: 0.4344 - accuracy: 0.8065\n",
            "Epoch 76/150\n",
            "50/50 [==============================] - 0s 2ms/step - loss: 0.4405 - accuracy: 0.8054\n",
            "Epoch 77/150\n",
            "50/50 [==============================] - 0s 2ms/step - loss: 0.4274 - accuracy: 0.8144\n",
            "Epoch 78/150\n",
            "50/50 [==============================] - 0s 2ms/step - loss: 0.4333 - accuracy: 0.8076\n",
            "Epoch 79/150\n",
            "50/50 [==============================] - 0s 2ms/step - loss: 0.4306 - accuracy: 0.8144\n",
            "Epoch 80/150\n",
            "50/50 [==============================] - 0s 2ms/step - loss: 0.4331 - accuracy: 0.8144\n",
            "Epoch 81/150\n",
            "50/50 [==============================] - 0s 2ms/step - loss: 0.4302 - accuracy: 0.8110\n",
            "Epoch 82/150\n",
            "50/50 [==============================] - 0s 2ms/step - loss: 0.4271 - accuracy: 0.8088\n",
            "Epoch 83/150\n",
            "50/50 [==============================] - 0s 2ms/step - loss: 0.4304 - accuracy: 0.8166\n",
            "Epoch 84/150\n",
            "50/50 [==============================] - 0s 2ms/step - loss: 0.4316 - accuracy: 0.8054\n",
            "Epoch 85/150\n",
            "50/50 [==============================] - 0s 2ms/step - loss: 0.4279 - accuracy: 0.8166\n",
            "Epoch 86/150\n",
            "50/50 [==============================] - 0s 2ms/step - loss: 0.4276 - accuracy: 0.8178\n",
            "Epoch 87/150\n",
            "50/50 [==============================] - 0s 2ms/step - loss: 0.4300 - accuracy: 0.8155\n",
            "Epoch 88/150\n",
            "50/50 [==============================] - 0s 2ms/step - loss: 0.4284 - accuracy: 0.8076\n",
            "Epoch 89/150\n",
            "50/50 [==============================] - 0s 2ms/step - loss: 0.4366 - accuracy: 0.8009\n",
            "Epoch 90/150\n",
            "50/50 [==============================] - 0s 2ms/step - loss: 0.4273 - accuracy: 0.8076\n",
            "Epoch 91/150\n",
            "50/50 [==============================] - 0s 2ms/step - loss: 0.4324 - accuracy: 0.8133\n",
            "Epoch 92/150\n",
            "50/50 [==============================] - 0s 2ms/step - loss: 0.4306 - accuracy: 0.8178\n",
            "Epoch 93/150\n",
            "50/50 [==============================] - 0s 2ms/step - loss: 0.4498 - accuracy: 0.8009\n",
            "Epoch 94/150\n",
            "50/50 [==============================] - 0s 2ms/step - loss: 0.4422 - accuracy: 0.8043\n",
            "Epoch 95/150\n",
            "50/50 [==============================] - 0s 2ms/step - loss: 0.4273 - accuracy: 0.8155\n",
            "Epoch 96/150\n",
            "50/50 [==============================] - 0s 2ms/step - loss: 0.4270 - accuracy: 0.8144\n",
            "Epoch 97/150\n",
            "50/50 [==============================] - 0s 2ms/step - loss: 0.4323 - accuracy: 0.8088\n",
            "Epoch 98/150\n",
            "50/50 [==============================] - 0s 2ms/step - loss: 0.4311 - accuracy: 0.8110\n",
            "Epoch 99/150\n",
            "50/50 [==============================] - 0s 2ms/step - loss: 0.4334 - accuracy: 0.8144\n",
            "Epoch 100/150\n",
            "50/50 [==============================] - 0s 2ms/step - loss: 0.4301 - accuracy: 0.8076\n",
            "Epoch 101/150\n",
            "50/50 [==============================] - 0s 2ms/step - loss: 0.4256 - accuracy: 0.8178\n",
            "Epoch 102/150\n",
            "50/50 [==============================] - 0s 3ms/step - loss: 0.4303 - accuracy: 0.8043\n",
            "Epoch 103/150\n",
            "50/50 [==============================] - 0s 2ms/step - loss: 0.4277 - accuracy: 0.8178\n",
            "Epoch 104/150\n",
            "50/50 [==============================] - 0s 2ms/step - loss: 0.4338 - accuracy: 0.8110\n",
            "Epoch 105/150\n",
            "50/50 [==============================] - 0s 2ms/step - loss: 0.4264 - accuracy: 0.8121\n",
            "Epoch 106/150\n",
            "50/50 [==============================] - 0s 2ms/step - loss: 0.4223 - accuracy: 0.8110\n",
            "Epoch 107/150\n",
            "50/50 [==============================] - 0s 2ms/step - loss: 0.4280 - accuracy: 0.8166\n",
            "Epoch 108/150\n",
            "50/50 [==============================] - 0s 2ms/step - loss: 0.4250 - accuracy: 0.8144\n",
            "Epoch 109/150\n",
            "50/50 [==============================] - 0s 2ms/step - loss: 0.4264 - accuracy: 0.8200\n",
            "Epoch 110/150\n",
            "50/50 [==============================] - 0s 2ms/step - loss: 0.4301 - accuracy: 0.8110\n",
            "Epoch 111/150\n",
            "50/50 [==============================] - 0s 2ms/step - loss: 0.4259 - accuracy: 0.8155\n",
            "Epoch 112/150\n",
            "50/50 [==============================] - 0s 2ms/step - loss: 0.4250 - accuracy: 0.8043\n",
            "Epoch 113/150\n",
            "50/50 [==============================] - 0s 2ms/step - loss: 0.4312 - accuracy: 0.8099\n",
            "Epoch 114/150\n",
            "50/50 [==============================] - 0s 2ms/step - loss: 0.4258 - accuracy: 0.8189\n",
            "Epoch 115/150\n",
            "50/50 [==============================] - 0s 2ms/step - loss: 0.4221 - accuracy: 0.8178\n",
            "Epoch 116/150\n",
            "50/50 [==============================] - 0s 2ms/step - loss: 0.4270 - accuracy: 0.8144\n",
            "Epoch 117/150\n",
            "50/50 [==============================] - 0s 2ms/step - loss: 0.4292 - accuracy: 0.8144\n",
            "Epoch 118/150\n",
            "50/50 [==============================] - 0s 2ms/step - loss: 0.4238 - accuracy: 0.8133\n",
            "Epoch 119/150\n",
            "50/50 [==============================] - 0s 2ms/step - loss: 0.4351 - accuracy: 0.8110\n",
            "Epoch 120/150\n",
            "50/50 [==============================] - 0s 2ms/step - loss: 0.4268 - accuracy: 0.8110\n",
            "Epoch 121/150\n",
            "50/50 [==============================] - 0s 2ms/step - loss: 0.4689 - accuracy: 0.7975\n",
            "Epoch 122/150\n",
            "50/50 [==============================] - 0s 3ms/step - loss: 0.4296 - accuracy: 0.8121\n",
            "Epoch 123/150\n",
            "50/50 [==============================] - 0s 3ms/step - loss: 0.4250 - accuracy: 0.8133\n",
            "Epoch 124/150\n",
            "50/50 [==============================] - 0s 3ms/step - loss: 0.4203 - accuracy: 0.8211\n",
            "Epoch 125/150\n",
            "50/50 [==============================] - 0s 3ms/step - loss: 0.4394 - accuracy: 0.7964\n",
            "Epoch 126/150\n",
            "50/50 [==============================] - 0s 3ms/step - loss: 0.4284 - accuracy: 0.8155\n",
            "Epoch 127/150\n",
            "50/50 [==============================] - 0s 4ms/step - loss: 0.4244 - accuracy: 0.8223\n",
            "Epoch 128/150\n",
            "50/50 [==============================] - 0s 3ms/step - loss: 0.4274 - accuracy: 0.8166\n",
            "Epoch 129/150\n",
            "50/50 [==============================] - 0s 4ms/step - loss: 0.4268 - accuracy: 0.8121\n",
            "Epoch 130/150\n",
            "50/50 [==============================] - 0s 3ms/step - loss: 0.4237 - accuracy: 0.8110\n",
            "Epoch 131/150\n",
            "50/50 [==============================] - 0s 3ms/step - loss: 0.4219 - accuracy: 0.8133\n",
            "Epoch 132/150\n",
            "50/50 [==============================] - 0s 3ms/step - loss: 0.4226 - accuracy: 0.8166\n",
            "Epoch 133/150\n",
            "50/50 [==============================] - 0s 3ms/step - loss: 0.4213 - accuracy: 0.8076\n",
            "Epoch 134/150\n",
            "50/50 [==============================] - 0s 3ms/step - loss: 0.4273 - accuracy: 0.8099\n",
            "Epoch 135/150\n",
            "50/50 [==============================] - 0s 3ms/step - loss: 0.4203 - accuracy: 0.8189\n",
            "Epoch 136/150\n",
            "50/50 [==============================] - 0s 3ms/step - loss: 0.4471 - accuracy: 0.8088\n",
            "Epoch 137/150\n",
            "50/50 [==============================] - 0s 3ms/step - loss: 0.4255 - accuracy: 0.8144\n",
            "Epoch 138/150\n",
            "50/50 [==============================] - 0s 3ms/step - loss: 0.4214 - accuracy: 0.8166\n",
            "Epoch 139/150\n",
            "50/50 [==============================] - 0s 3ms/step - loss: 0.4247 - accuracy: 0.8088\n",
            "Epoch 140/150\n",
            "50/50 [==============================] - 0s 4ms/step - loss: 0.4217 - accuracy: 0.8155\n",
            "Epoch 141/150\n",
            "50/50 [==============================] - 0s 3ms/step - loss: 0.4229 - accuracy: 0.8178\n",
            "Epoch 142/150\n",
            "50/50 [==============================] - 0s 2ms/step - loss: 0.4272 - accuracy: 0.8133\n",
            "Epoch 143/150\n",
            "50/50 [==============================] - 0s 2ms/step - loss: 0.4316 - accuracy: 0.8054\n",
            "Epoch 144/150\n",
            "50/50 [==============================] - 0s 2ms/step - loss: 0.4225 - accuracy: 0.8110\n",
            "Epoch 145/150\n",
            "50/50 [==============================] - 0s 2ms/step - loss: 0.4237 - accuracy: 0.8166\n",
            "Epoch 146/150\n",
            "50/50 [==============================] - 0s 2ms/step - loss: 0.4243 - accuracy: 0.8155\n",
            "Epoch 147/150\n",
            "50/50 [==============================] - 0s 2ms/step - loss: 0.4216 - accuracy: 0.8144\n",
            "Epoch 148/150\n",
            "50/50 [==============================] - 0s 2ms/step - loss: 0.4431 - accuracy: 0.8155\n",
            "Epoch 149/150\n",
            "50/50 [==============================] - 0s 2ms/step - loss: 0.4199 - accuracy: 0.8144\n",
            "Epoch 150/150\n",
            "50/50 [==============================] - 0s 2ms/step - loss: 0.4214 - accuracy: 0.8166\n",
            "0:00:21.348866\n"
          ]
        }
      ]
    },
    {
      "cell_type": "code",
      "source": [],
      "metadata": {
        "id": "q6ypXTRQrYGd"
      },
      "execution_count": null,
      "outputs": []
    }
  ]
}